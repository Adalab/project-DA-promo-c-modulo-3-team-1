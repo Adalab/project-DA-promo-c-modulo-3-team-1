{
 "cells": [
  {
   "attachments": {},
   "cell_type": "markdown",
   "metadata": {},
   "source": [
    "# Tienen orden las variables? "
   ]
  },
  {
   "cell_type": "code",
   "execution_count": 1,
   "metadata": {},
   "outputs": [],
   "source": [
    "# Tratamiento de datos\n",
    "# -----------------------------------------------------------------------\n",
    "import pandas as pd\n",
    "import numpy as np\n",
    "import sidetable\n",
    "\n",
    "# Gráficos\n",
    "# ------------------------------------------------------------------------------\n",
    "import seaborn as sns\n",
    "import matplotlib.pyplot as plt\n",
    "\n",
    "# Transformación de los datos\n",
    "# ------------------------------------------------------------------------------\n",
    "from scipy import stats\n",
    "import math \n",
    "from sklearn.preprocessing import MinMaxScaler\n",
    "\n",
    "# Para la gestión de los warning\n",
    "# ------------------------------------------------------------------------------\n",
    "import warnings\n",
    "warnings.filterwarnings('ignore')\n",
    "\n",
    "# Para poder ver todas las columnas del dataframe\n",
    "# ------------------------------------------------------------------------------\n",
    "pd.options.display.max_columns = None \n",
    "\n",
    "#Para poder cambiar fechas\n",
    "# ----------------------------------------------------------------------\n",
    "from datetime import date, datetime\n",
    "import calendar\n",
    "import holidays"
   ]
  },
  {
   "cell_type": "code",
   "execution_count": 6,
   "metadata": {},
   "outputs": [
    {
     "data": {
      "text/html": [
       "<div>\n",
       "<style scoped>\n",
       "    .dataframe tbody tr th:only-of-type {\n",
       "        vertical-align: middle;\n",
       "    }\n",
       "\n",
       "    .dataframe tbody tr th {\n",
       "        vertical-align: top;\n",
       "    }\n",
       "\n",
       "    .dataframe thead th {\n",
       "        text-align: right;\n",
       "    }\n",
       "</style>\n",
       "<table border=\"1\" class=\"dataframe\">\n",
       "  <thead>\n",
       "    <tr style=\"text-align: right;\">\n",
       "      <th></th>\n",
       "      <th>instant</th>\n",
       "      <th>dteday</th>\n",
       "      <th>season</th>\n",
       "      <th>yr</th>\n",
       "      <th>mnth</th>\n",
       "      <th>holiday</th>\n",
       "      <th>weekday</th>\n",
       "      <th>workingday</th>\n",
       "      <th>weathersit</th>\n",
       "      <th>temp</th>\n",
       "      <th>atemp</th>\n",
       "      <th>hum</th>\n",
       "      <th>windspeed</th>\n",
       "      <th>casual</th>\n",
       "      <th>registered</th>\n",
       "      <th>cnt</th>\n",
       "    </tr>\n",
       "  </thead>\n",
       "  <tbody>\n",
       "    <tr>\n",
       "      <th>0</th>\n",
       "      <td>1.0</td>\n",
       "      <td>01-01-2018</td>\n",
       "      <td>spring</td>\n",
       "      <td>0.0</td>\n",
       "      <td>1.0</td>\n",
       "      <td>0.0</td>\n",
       "      <td>6.0</td>\n",
       "      <td>0.0</td>\n",
       "      <td>2.0</td>\n",
       "      <td>14.110847</td>\n",
       "      <td>18.18125</td>\n",
       "      <td>80.5833</td>\n",
       "      <td>10.749882</td>\n",
       "      <td>331.0</td>\n",
       "      <td>654.0</td>\n",
       "      <td>985.0</td>\n",
       "    </tr>\n",
       "    <tr>\n",
       "      <th>1</th>\n",
       "      <td>2.0</td>\n",
       "      <td>02-01-2018</td>\n",
       "      <td>spring</td>\n",
       "      <td>0.0</td>\n",
       "      <td>1.0</td>\n",
       "      <td>0.0</td>\n",
       "      <td>0.0</td>\n",
       "      <td>0.0</td>\n",
       "      <td>2.0</td>\n",
       "      <td>14.902598</td>\n",
       "      <td>17.68695</td>\n",
       "      <td>69.6087</td>\n",
       "      <td>16.652113</td>\n",
       "      <td>131.0</td>\n",
       "      <td>670.0</td>\n",
       "      <td>801.0</td>\n",
       "    </tr>\n",
       "  </tbody>\n",
       "</table>\n",
       "</div>"
      ],
      "text/plain": [
       "   instant      dteday  season   yr  mnth  holiday  weekday  workingday  \\\n",
       "0      1.0  01-01-2018  spring  0.0   1.0      0.0      6.0         0.0   \n",
       "1      2.0  02-01-2018  spring  0.0   1.0      0.0      0.0         0.0   \n",
       "\n",
       "   weathersit       temp     atemp      hum  windspeed  casual  registered  \\\n",
       "0         2.0  14.110847  18.18125  80.5833  10.749882   331.0       654.0   \n",
       "1         2.0  14.902598  17.68695  69.6087  16.652113   131.0       670.0   \n",
       "\n",
       "     cnt  \n",
       "0  985.0  \n",
       "1  801.0  "
      ]
     },
     "execution_count": 6,
     "metadata": {},
     "output_type": "execute_result"
    }
   ],
   "source": [
    "df = pd.read_pickle('../datos/01-bikes_sin_outliers.pickle')\n",
    "df.head(2)"
   ]
  },
  {
   "attachments": {},
   "cell_type": "markdown",
   "metadata": {},
   "source": [
    "# Variables : \n",
    "\n",
    "- instant\t\n",
    "- dteday\t\n",
    "- season\t\n",
    "- yr\t\n",
    "- mnth\t\n",
    "- holiday\t\n",
    "- weekday\t\n",
    "- workingday\t\n",
    "- weathersit\t\n",
    "- temp\t\n",
    "- atemp\t\n",
    "- hum\t\n",
    "- windspeed\t\n",
    "- casual\t\n",
    "- registered\t\n",
    "- cnt"
   ]
  },
  {
   "attachments": {},
   "cell_type": "markdown",
   "metadata": {},
   "source": [
    "- Si las variables categóricas **NO tienen** orden usaremos: \n",
    "\n",
    "    - One-Hot Encoding\n",
    "\n",
    "    - get_dummies\n",
    "---\n",
    "- Si las variables categóricas **tienen** orden usaremos: \n",
    "\n",
    "    - Label-Encoding\n",
    "\n",
    "    - map\n",
    "\n",
    "    - Ordinal-Encoding"
   ]
  },
  {
   "attachments": {},
   "cell_type": "markdown",
   "metadata": {},
   "source": [
    "R lineal :- Lo modelos de **regresión lineal** son aquellos en los que la variable respuesta es de tipo continua\n",
    "\n",
    "    Variable Alquiler de bicis"
   ]
  },
  {
   "attachments": {},
   "cell_type": "markdown",
   "metadata": {},
   "source": [
    "- Los modelos de **regresión lógistica** son aquellos cuya variable respuesta será una variable de tipo categórica.\n",
    "        \n",
    "        RLogistica : Es registrado o no'"
   ]
  },
  {
   "attachments": {},
   "cell_type": "markdown",
   "metadata": {},
   "source": [
    "1. Son variables Similares? "
   ]
  },
  {
   "cell_type": "code",
   "execution_count": 7,
   "metadata": {},
   "outputs": [],
   "source": [
    "def similar_variables(lista_variables,plot = True):\n",
    "    for columna in lista_variables:\n",
    "        print(' Los valores únicos para la variable',columna, 'son:', list( df[columna].unique()))\n",
    "        value_counts = df[columna].value_counts()\n",
    "        if plot == True:\n",
    "            plt.figure()\n",
    "            plt.grid()\n",
    "            mycolors = ['#4c9c85','#a0c6b9','#c8dbd5','#f1f1f1','#eed4f4','#e9b8f8','#e39afb']\n",
    "            value_counts.plot.pie(figsize=(12,8), shadow = True,colors = mycolors,autopct='%1.1f%%',textprops=({'size': 'smaller','color':\"w\"}))\n",
    "            \n",
    "        else:\n",
    "            pass"
   ]
  },
  {
   "cell_type": "code",
   "execution_count": 8,
   "metadata": {},
   "outputs": [
    {
     "data": {
      "text/plain": [
       "Index(['instant', 'dteday', 'season', 'yr', 'mnth', 'holiday', 'weekday',\n",
       "       'workingday', 'weathersit', 'temp', 'atemp', 'hum', 'windspeed',\n",
       "       'casual', 'registered', 'cnt'],\n",
       "      dtype='object')"
      ]
     },
     "execution_count": 8,
     "metadata": {},
     "output_type": "execute_result"
    }
   ],
   "source": [
    "df.columns"
   ]
  },
  {
   "cell_type": "code",
   "execution_count": 9,
   "metadata": {},
   "outputs": [
    {
     "name": "stdout",
     "output_type": "stream",
     "text": [
      " Los valores únicos para la variable season son: ['spring', 'summer', 'autumn', 'winter', nan]\n",
      " Los valores únicos para la variable mnth son: [1.0, 2.0, 3.0, 4.0, 5.0, 6.0, 7.0, 8.0, 9.0, 10.0, 11.0, 12.0, nan]\n"
     ]
    },
    {
     "data": {
      "image/png": "[encoded data removed]",
      "text/plain": [
       "<Figure size 1200x800 with 1 Axes>"
      ]
     },
     "metadata": {},
     "output_type": "display_data"
    },
    {
     "data": {
      "image/png": "[encoded data removed]",
      "text/plain": [
       "<Figure size 1200x800 with 1 Axes>"
      ]
     },
     "metadata": {},
     "output_type": "display_data"
    }
   ],
   "source": [
    "lista_columnas = ['season','mnth']\n",
    "similar_variables(lista_columnas)"
   ]
  },
  {
   "cell_type": "code",
   "execution_count": 10,
   "metadata": {},
   "outputs": [
    {
     "data": {
      "text/html": [
       "<div>\n",
       "<style scoped>\n",
       "    .dataframe tbody tr th:only-of-type {\n",
       "        vertical-align: middle;\n",
       "    }\n",
       "\n",
       "    .dataframe tbody tr th {\n",
       "        vertical-align: top;\n",
       "    }\n",
       "\n",
       "    .dataframe thead th {\n",
       "        text-align: right;\n",
       "    }\n",
       "</style>\n",
       "<table border=\"1\" class=\"dataframe\">\n",
       "  <thead>\n",
       "    <tr style=\"text-align: right;\">\n",
       "      <th></th>\n",
       "      <th>dteday</th>\n",
       "      <th>season</th>\n",
       "    </tr>\n",
       "  </thead>\n",
       "  <tbody>\n",
       "    <tr>\n",
       "      <th>0</th>\n",
       "      <td>01-01-2018</td>\n",
       "      <td>spring</td>\n",
       "    </tr>\n",
       "    <tr>\n",
       "      <th>1</th>\n",
       "      <td>02-01-2018</td>\n",
       "      <td>spring</td>\n",
       "    </tr>\n",
       "    <tr>\n",
       "      <th>2</th>\n",
       "      <td>03-01-2018</td>\n",
       "      <td>spring</td>\n",
       "    </tr>\n",
       "    <tr>\n",
       "      <th>3</th>\n",
       "      <td>04-01-2018</td>\n",
       "      <td>spring</td>\n",
       "    </tr>\n",
       "    <tr>\n",
       "      <th>4</th>\n",
       "      <td>05-01-2018</td>\n",
       "      <td>spring</td>\n",
       "    </tr>\n",
       "    <tr>\n",
       "      <th>5</th>\n",
       "      <td>06-01-2018</td>\n",
       "      <td>spring</td>\n",
       "    </tr>\n",
       "    <tr>\n",
       "      <th>6</th>\n",
       "      <td>07-01-2018</td>\n",
       "      <td>spring</td>\n",
       "    </tr>\n",
       "    <tr>\n",
       "      <th>7</th>\n",
       "      <td>08-01-2018</td>\n",
       "      <td>spring</td>\n",
       "    </tr>\n",
       "    <tr>\n",
       "      <th>8</th>\n",
       "      <td>09-01-2018</td>\n",
       "      <td>spring</td>\n",
       "    </tr>\n",
       "    <tr>\n",
       "      <th>9</th>\n",
       "      <td>10-01-2018</td>\n",
       "      <td>spring</td>\n",
       "    </tr>\n",
       "  </tbody>\n",
       "</table>\n",
       "</div>"
      ],
      "text/plain": [
       "       dteday  season\n",
       "0  01-01-2018  spring\n",
       "1  02-01-2018  spring\n",
       "2  03-01-2018  spring\n",
       "3  04-01-2018  spring\n",
       "4  05-01-2018  spring\n",
       "5  06-01-2018  spring\n",
       "6  07-01-2018  spring\n",
       "7  08-01-2018  spring\n",
       "8  09-01-2018  spring\n",
       "9  10-01-2018  spring"
      ]
     },
     "execution_count": 10,
     "metadata": {},
     "output_type": "execute_result"
    }
   ],
   "source": [
    "categoricas= df.select_dtypes(include='object')\n",
    "categoricas.head(10)"
   ]
  },
  {
   "cell_type": "code",
   "execution_count": 11,
   "metadata": {},
   "outputs": [
    {
     "name": "stderr",
     "output_type": "stream",
     "text": [
      "No handles with labels found to put in legend.\n",
      "No handles with labels found to put in legend.\n"
     ]
    },
    {
     "data": {
      "image/png": "[encoded data removed]",
      "text/plain": [
       "<Figure size 2000x1000 with 3 Axes>"
      ]
     },
     "metadata": {},
     "output_type": "display_data"
    }
   ],
   "source": [
    "# Gráfico de distribución para cada variable categórica\n",
    "# ==============================================================================\n",
    "\n",
    "fig, axes = plt.subplots(nrows = 1, ncols = 3, figsize = (20,10))\n",
    "\n",
    "axes = axes.flat\n",
    "columnas_cat = categoricas.columns\n",
    "\n",
    "for i, colum in enumerate(columnas_cat):\n",
    "    sns.countplot(\n",
    "        data = df,\n",
    "        x = colum,\n",
    "        #hue = \"registered\",\n",
    "        alpha = 0.2,\n",
    "        palette = 'Spectral', \n",
    "        ax = axes[i])\n",
    "    \n",
    "    \n",
    "    axes[i].set_title(colum.capitalize(), fontsize = 15, fontweight = \"bold\")#titulos con letra mayuscula\n",
    "    axes[i].tick_params(labelsize = 20)\n",
    "    axes[i].set_xlabel(\"\")\n",
    "    axes[i].legend(loc= \"upper right\")\n",
    "    axes[i].grid(axis = 'y', color = 'gray', linestyle = 'dashed')# pon el grid\n",
    "    axes[i].spines['right'].set_visible(False)# borra los bordes\n",
    "    axes[i].spines['top'].set_visible(False)\n",
    "\n",
    "fig.tight_layout();"
   ]
  },
  {
   "attachments": {},
   "cell_type": "markdown",
   "metadata": {},
   "source": [
    "Primero saber los valores unicos"
   ]
  },
  {
   "cell_type": "code",
   "execution_count": 12,
   "metadata": {},
   "outputs": [
    {
     "data": {
      "text/plain": [
       "array(['spring', 'summer', 'autumn', 'winter', nan], dtype=object)"
      ]
     },
     "execution_count": 12,
     "metadata": {},
     "output_type": "execute_result"
    }
   ],
   "source": [
    "df.season.unique()"
   ]
  },
  {
   "attachments": {},
   "cell_type": "markdown",
   "metadata": {},
   "source": [
    "¿ el hecho de que sea invierno/verano/otoño/primavera puede hacer que el alquiler de las bicis por los registrados cambie significativamente? \n",
    "- A la vista de las graficas NO, por lo tanto la cariable tiene TIENE ORDEN"
   ]
  },
  {
   "cell_type": "code",
   "execution_count": 13,
   "metadata": {},
   "outputs": [
    {
     "data": {
      "text/plain": [
       "array([ 0., nan])"
      ]
     },
     "execution_count": 13,
     "metadata": {},
     "output_type": "execute_result"
    }
   ],
   "source": [
    "df.holiday.unique()"
   ]
  },
  {
   "attachments": {},
   "cell_type": "markdown",
   "metadata": {},
   "source": [
    "¿ el hecho de que sea festivo/no festivo puede hacer que el alquiler de las bicis por los registrados cambie significativamente? \n",
    "- A la vista de las graficas SI, por lo tanto la cariable tiene ORDEN\n"
   ]
  },
  {
   "cell_type": "code",
   "execution_count": 14,
   "metadata": {},
   "outputs": [
    {
     "data": {
      "text/plain": [
       "array([ 0.,  1., nan])"
      ]
     },
     "execution_count": 14,
     "metadata": {},
     "output_type": "execute_result"
    }
   ],
   "source": [
    "df.workingday.unique()"
   ]
  },
  {
   "attachments": {},
   "cell_type": "markdown",
   "metadata": {},
   "source": [
    "¿ el hecho de que sea laborable/finde puede hacer que el alquiler de las bicis por los registrados cambie significativamente? \n",
    "- A la vista de las graficas SI, por lo tanto la cariable tiene ORDEN"
   ]
  },
  {
   "attachments": {},
   "cell_type": "markdown",
   "metadata": {},
   "source": [
    "---"
   ]
  },
  {
   "attachments": {},
   "cell_type": "markdown",
   "metadata": {},
   "source": [
    "season - mnth = dependiente\n",
    "\n",
    "season - holiday = dependiente\n",
    "\n",
    "season - weathersit = dependiente\n",
    "\n",
    "season - temp = dependiente\n",
    "\n",
    "mnth - weathersit = dependiente\n",
    "\n",
    "mnth - temp = dependiente\n",
    "\n",
    "holiday - weekday = dependiente\n",
    "\n",
    "weekday - workingday = dependiente\n",
    "\n",
    "'weathersit', 'hum' = dependiente\n",
    "\n",
    "temp - atemp = dependiente\n",
    "\n",
    "temp- hum = dependiente\n",
    "\n",
    "temp- windspeed = dependiente\n",
    "\n",
    "hum - windspeed = dependiente"
   ]
  },
  {
   "attachments": {},
   "cell_type": "markdown",
   "metadata": {},
   "source": [
    "# No se guardan archivos"
   ]
  },
  {
   "cell_type": "code",
   "execution_count": 3,
   "metadata": {},
   "outputs": [],
   "source": [
    "df2 = pd.read_pickle(\"../datos/02-bikes-limpio-con-outliers.pickle\")"
   ]
  },
  {
   "cell_type": "code",
   "execution_count": 5,
   "metadata": {},
   "outputs": [
    {
     "data": {
      "text/html": [
       "<div>\n",
       "<style scoped>\n",
       "    .dataframe tbody tr th:only-of-type {\n",
       "        vertical-align: middle;\n",
       "    }\n",
       "\n",
       "    .dataframe tbody tr th {\n",
       "        vertical-align: top;\n",
       "    }\n",
       "\n",
       "    .dataframe thead th {\n",
       "        text-align: right;\n",
       "    }\n",
       "</style>\n",
       "<table border=\"1\" class=\"dataframe\">\n",
       "  <thead>\n",
       "    <tr style=\"text-align: right;\">\n",
       "      <th></th>\n",
       "      <th>instant</th>\n",
       "      <th>dteday</th>\n",
       "      <th>season</th>\n",
       "      <th>yr</th>\n",
       "      <th>mnth</th>\n",
       "      <th>holiday</th>\n",
       "      <th>weekday</th>\n",
       "      <th>workingday</th>\n",
       "      <th>weathersit</th>\n",
       "      <th>temp</th>\n",
       "      <th>atemp</th>\n",
       "      <th>hum</th>\n",
       "      <th>windspeed</th>\n",
       "      <th>casual</th>\n",
       "      <th>registered</th>\n",
       "      <th>cnt</th>\n",
       "    </tr>\n",
       "  </thead>\n",
       "  <tbody>\n",
       "    <tr>\n",
       "      <th>0</th>\n",
       "      <td>1</td>\n",
       "      <td>2018-01-01</td>\n",
       "      <td>invierno</td>\n",
       "      <td>0</td>\n",
       "      <td>1</td>\n",
       "      <td>festivo</td>\n",
       "      <td>1</td>\n",
       "      <td>laborable</td>\n",
       "      <td>2</td>\n",
       "      <td>14.110847</td>\n",
       "      <td>18.18125</td>\n",
       "      <td>80.5833</td>\n",
       "      <td>10.749882</td>\n",
       "      <td>331</td>\n",
       "      <td>654</td>\n",
       "      <td>985</td>\n",
       "    </tr>\n",
       "    <tr>\n",
       "      <th>1</th>\n",
       "      <td>2</td>\n",
       "      <td>2018-01-02</td>\n",
       "      <td>invierno</td>\n",
       "      <td>0</td>\n",
       "      <td>1</td>\n",
       "      <td>no festivo</td>\n",
       "      <td>2</td>\n",
       "      <td>laborable</td>\n",
       "      <td>2</td>\n",
       "      <td>14.902598</td>\n",
       "      <td>17.68695</td>\n",
       "      <td>69.6087</td>\n",
       "      <td>16.652113</td>\n",
       "      <td>131</td>\n",
       "      <td>670</td>\n",
       "      <td>801</td>\n",
       "    </tr>\n",
       "  </tbody>\n",
       "</table>\n",
       "</div>"
      ],
      "text/plain": [
       "   instant     dteday    season  yr  mnth     holiday weekday workingday  \\\n",
       "0        1 2018-01-01  invierno   0     1     festivo       1  laborable   \n",
       "1        2 2018-01-02  invierno   0     1  no festivo       2  laborable   \n",
       "\n",
       "  weathersit       temp     atemp      hum  windspeed  casual  registered  cnt  \n",
       "0          2  14.110847  18.18125  80.5833  10.749882     331         654  985  \n",
       "1          2  14.902598  17.68695  69.6087  16.652113     131         670  801  "
      ]
     },
     "execution_count": 5,
     "metadata": {},
     "output_type": "execute_result"
    }
   ],
   "source": [
    "df2.head(2)"
   ]
  },
  {
   "cell_type": "code",
   "execution_count": 7,
   "metadata": {},
   "outputs": [
    {
     "data": {
      "text/html": [
       "<div>\n",
       "<style scoped>\n",
       "    .dataframe tbody tr th:only-of-type {\n",
       "        vertical-align: middle;\n",
       "    }\n",
       "\n",
       "    .dataframe tbody tr th {\n",
       "        vertical-align: top;\n",
       "    }\n",
       "\n",
       "    .dataframe thead th {\n",
       "        text-align: right;\n",
       "    }\n",
       "</style>\n",
       "<table border=\"1\" class=\"dataframe\">\n",
       "  <thead>\n",
       "    <tr style=\"text-align: right;\">\n",
       "      <th></th>\n",
       "      <th>count</th>\n",
       "      <th>mean</th>\n",
       "      <th>std</th>\n",
       "      <th>min</th>\n",
       "      <th>25%</th>\n",
       "      <th>50%</th>\n",
       "      <th>75%</th>\n",
       "      <th>max</th>\n",
       "    </tr>\n",
       "  </thead>\n",
       "  <tbody>\n",
       "    <tr>\n",
       "      <th>instant</th>\n",
       "      <td>730.0</td>\n",
       "      <td>365.500000</td>\n",
       "      <td>210.877136</td>\n",
       "      <td>1.000000</td>\n",
       "      <td>183.250000</td>\n",
       "      <td>365.500000</td>\n",
       "      <td>547.750000</td>\n",
       "      <td>730.000000</td>\n",
       "    </tr>\n",
       "    <tr>\n",
       "      <th>yr</th>\n",
       "      <td>730.0</td>\n",
       "      <td>0.500000</td>\n",
       "      <td>0.500343</td>\n",
       "      <td>0.000000</td>\n",
       "      <td>0.000000</td>\n",
       "      <td>0.500000</td>\n",
       "      <td>1.000000</td>\n",
       "      <td>1.000000</td>\n",
       "    </tr>\n",
       "    <tr>\n",
       "      <th>mnth</th>\n",
       "      <td>730.0</td>\n",
       "      <td>6.526027</td>\n",
       "      <td>3.450215</td>\n",
       "      <td>1.000000</td>\n",
       "      <td>4.000000</td>\n",
       "      <td>7.000000</td>\n",
       "      <td>10.000000</td>\n",
       "      <td>12.000000</td>\n",
       "    </tr>\n",
       "    <tr>\n",
       "      <th>temp</th>\n",
       "      <td>730.0</td>\n",
       "      <td>20.319259</td>\n",
       "      <td>7.506729</td>\n",
       "      <td>2.424346</td>\n",
       "      <td>13.811885</td>\n",
       "      <td>20.465826</td>\n",
       "      <td>26.880615</td>\n",
       "      <td>35.328347</td>\n",
       "    </tr>\n",
       "    <tr>\n",
       "      <th>atemp</th>\n",
       "      <td>730.0</td>\n",
       "      <td>23.726322</td>\n",
       "      <td>8.150308</td>\n",
       "      <td>3.953480</td>\n",
       "      <td>16.889713</td>\n",
       "      <td>24.368225</td>\n",
       "      <td>30.445775</td>\n",
       "      <td>42.044800</td>\n",
       "    </tr>\n",
       "    <tr>\n",
       "      <th>hum</th>\n",
       "      <td>730.0</td>\n",
       "      <td>62.765175</td>\n",
       "      <td>14.237589</td>\n",
       "      <td>0.000000</td>\n",
       "      <td>52.000000</td>\n",
       "      <td>62.625000</td>\n",
       "      <td>72.989575</td>\n",
       "      <td>97.250000</td>\n",
       "    </tr>\n",
       "    <tr>\n",
       "      <th>windspeed</th>\n",
       "      <td>730.0</td>\n",
       "      <td>12.763620</td>\n",
       "      <td>5.195841</td>\n",
       "      <td>1.500244</td>\n",
       "      <td>9.041650</td>\n",
       "      <td>12.125325</td>\n",
       "      <td>15.625589</td>\n",
       "      <td>34.000021</td>\n",
       "    </tr>\n",
       "    <tr>\n",
       "      <th>casual</th>\n",
       "      <td>730.0</td>\n",
       "      <td>849.249315</td>\n",
       "      <td>686.479875</td>\n",
       "      <td>2.000000</td>\n",
       "      <td>316.250000</td>\n",
       "      <td>717.000000</td>\n",
       "      <td>1096.500000</td>\n",
       "      <td>3410.000000</td>\n",
       "    </tr>\n",
       "    <tr>\n",
       "      <th>registered</th>\n",
       "      <td>730.0</td>\n",
       "      <td>3658.757534</td>\n",
       "      <td>1559.758728</td>\n",
       "      <td>20.000000</td>\n",
       "      <td>2502.250000</td>\n",
       "      <td>3664.500000</td>\n",
       "      <td>4783.250000</td>\n",
       "      <td>6946.000000</td>\n",
       "    </tr>\n",
       "    <tr>\n",
       "      <th>cnt</th>\n",
       "      <td>730.0</td>\n",
       "      <td>4508.006849</td>\n",
       "      <td>1936.011647</td>\n",
       "      <td>22.000000</td>\n",
       "      <td>3169.750000</td>\n",
       "      <td>4548.500000</td>\n",
       "      <td>5966.000000</td>\n",
       "      <td>8714.000000</td>\n",
       "    </tr>\n",
       "  </tbody>\n",
       "</table>\n",
       "</div>"
      ],
      "text/plain": [
       "            count         mean          std        min          25%  \\\n",
       "instant     730.0   365.500000   210.877136   1.000000   183.250000   \n",
       "yr          730.0     0.500000     0.500343   0.000000     0.000000   \n",
       "mnth        730.0     6.526027     3.450215   1.000000     4.000000   \n",
       "temp        730.0    20.319259     7.506729   2.424346    13.811885   \n",
       "atemp       730.0    23.726322     8.150308   3.953480    16.889713   \n",
       "hum         730.0    62.765175    14.237589   0.000000    52.000000   \n",
       "windspeed   730.0    12.763620     5.195841   1.500244     9.041650   \n",
       "casual      730.0   849.249315   686.479875   2.000000   316.250000   \n",
       "registered  730.0  3658.757534  1559.758728  20.000000  2502.250000   \n",
       "cnt         730.0  4508.006849  1936.011647  22.000000  3169.750000   \n",
       "\n",
       "                    50%          75%          max  \n",
       "instant      365.500000   547.750000   730.000000  \n",
       "yr             0.500000     1.000000     1.000000  \n",
       "mnth           7.000000    10.000000    12.000000  \n",
       "temp          20.465826    26.880615    35.328347  \n",
       "atemp         24.368225    30.445775    42.044800  \n",
       "hum           62.625000    72.989575    97.250000  \n",
       "windspeed     12.125325    15.625589    34.000021  \n",
       "casual       717.000000  1096.500000  3410.000000  \n",
       "registered  3664.500000  4783.250000  6946.000000  \n",
       "cnt         4548.500000  5966.000000  8714.000000  "
      ]
     },
     "execution_count": 7,
     "metadata": {},
     "output_type": "execute_result"
    }
   ],
   "source": [
    "df2.describe().T"
   ]
  },
  {
   "cell_type": "code",
   "execution_count": 10,
   "metadata": {},
   "outputs": [
    {
     "data": {
      "text/plain": [
       "(180, 16)"
      ]
     },
     "execution_count": 10,
     "metadata": {},
     "output_type": "execute_result"
    }
   ],
   "source": [
    "df_invierno= df2[df2['season']=='invierno']\n",
    "df_invierno.shape"
   ]
  },
  {
   "cell_type": "code",
   "execution_count": 9,
   "metadata": {},
   "outputs": [
    {
     "data": {
      "text/html": [
       "<div>\n",
       "<style scoped>\n",
       "    .dataframe tbody tr th:only-of-type {\n",
       "        vertical-align: middle;\n",
       "    }\n",
       "\n",
       "    .dataframe tbody tr th {\n",
       "        vertical-align: top;\n",
       "    }\n",
       "\n",
       "    .dataframe thead th {\n",
       "        text-align: right;\n",
       "    }\n",
       "</style>\n",
       "<table border=\"1\" class=\"dataframe\">\n",
       "  <thead>\n",
       "    <tr style=\"text-align: right;\">\n",
       "      <th></th>\n",
       "      <th>count</th>\n",
       "      <th>mean</th>\n",
       "      <th>std</th>\n",
       "      <th>min</th>\n",
       "      <th>25%</th>\n",
       "      <th>50%</th>\n",
       "      <th>75%</th>\n",
       "      <th>max</th>\n",
       "    </tr>\n",
       "  </thead>\n",
       "  <tbody>\n",
       "    <tr>\n",
       "      <th>instant</th>\n",
       "      <td>180.0</td>\n",
       "      <td>261.611111</td>\n",
       "      <td>212.131544</td>\n",
       "      <td>1.000000</td>\n",
       "      <td>45.750000</td>\n",
       "      <td>365.500000</td>\n",
       "      <td>410.250000</td>\n",
       "      <td>730.000000</td>\n",
       "    </tr>\n",
       "    <tr>\n",
       "      <th>yr</th>\n",
       "      <td>180.0</td>\n",
       "      <td>0.500000</td>\n",
       "      <td>0.501395</td>\n",
       "      <td>0.000000</td>\n",
       "      <td>0.000000</td>\n",
       "      <td>0.500000</td>\n",
       "      <td>1.000000</td>\n",
       "      <td>1.000000</td>\n",
       "    </tr>\n",
       "    <tr>\n",
       "      <th>mnth</th>\n",
       "      <td>180.0</td>\n",
       "      <td>3.100000</td>\n",
       "      <td>3.412268</td>\n",
       "      <td>1.000000</td>\n",
       "      <td>1.000000</td>\n",
       "      <td>2.000000</td>\n",
       "      <td>3.000000</td>\n",
       "      <td>12.000000</td>\n",
       "    </tr>\n",
       "    <tr>\n",
       "      <th>temp</th>\n",
       "      <td>180.0</td>\n",
       "      <td>12.197035</td>\n",
       "      <td>4.221457</td>\n",
       "      <td>2.424346</td>\n",
       "      <td>9.114700</td>\n",
       "      <td>11.706525</td>\n",
       "      <td>14.849124</td>\n",
       "      <td>23.472500</td>\n",
       "    </tr>\n",
       "    <tr>\n",
       "      <th>atemp</th>\n",
       "      <td>180.0</td>\n",
       "      <td>14.831376</td>\n",
       "      <td>4.961332</td>\n",
       "      <td>3.953480</td>\n",
       "      <td>11.608738</td>\n",
       "      <td>14.125325</td>\n",
       "      <td>17.985650</td>\n",
       "      <td>27.430850</td>\n",
       "    </tr>\n",
       "    <tr>\n",
       "      <th>hum</th>\n",
       "      <td>180.0</td>\n",
       "      <td>58.167024</td>\n",
       "      <td>15.139273</td>\n",
       "      <td>0.000000</td>\n",
       "      <td>48.322900</td>\n",
       "      <td>54.375000</td>\n",
       "      <td>69.339675</td>\n",
       "      <td>94.826100</td>\n",
       "    </tr>\n",
       "    <tr>\n",
       "      <th>windspeed</th>\n",
       "      <td>180.0</td>\n",
       "      <td>14.387168</td>\n",
       "      <td>5.804831</td>\n",
       "      <td>3.042356</td>\n",
       "      <td>10.386993</td>\n",
       "      <td>13.596545</td>\n",
       "      <td>17.088668</td>\n",
       "      <td>34.000021</td>\n",
       "    </tr>\n",
       "    <tr>\n",
       "      <th>casual</th>\n",
       "      <td>180.0</td>\n",
       "      <td>336.427778</td>\n",
       "      <td>388.210074</td>\n",
       "      <td>9.000000</td>\n",
       "      <td>112.750000</td>\n",
       "      <td>219.500000</td>\n",
       "      <td>424.000000</td>\n",
       "      <td>3155.000000</td>\n",
       "    </tr>\n",
       "    <tr>\n",
       "      <th>registered</th>\n",
       "      <td>180.0</td>\n",
       "      <td>2271.983333</td>\n",
       "      <td>1203.033760</td>\n",
       "      <td>416.000000</td>\n",
       "      <td>1378.250000</td>\n",
       "      <td>1869.000000</td>\n",
       "      <td>3168.250000</td>\n",
       "      <td>5315.000000</td>\n",
       "    </tr>\n",
       "    <tr>\n",
       "      <th>cnt</th>\n",
       "      <td>180.0</td>\n",
       "      <td>2608.411111</td>\n",
       "      <td>1402.659942</td>\n",
       "      <td>431.000000</td>\n",
       "      <td>1536.000000</td>\n",
       "      <td>2222.500000</td>\n",
       "      <td>3463.750000</td>\n",
       "      <td>7836.000000</td>\n",
       "    </tr>\n",
       "  </tbody>\n",
       "</table>\n",
       "</div>"
      ],
      "text/plain": [
       "            count         mean          std         min          25%  \\\n",
       "instant     180.0   261.611111   212.131544    1.000000    45.750000   \n",
       "yr          180.0     0.500000     0.501395    0.000000     0.000000   \n",
       "mnth        180.0     3.100000     3.412268    1.000000     1.000000   \n",
       "temp        180.0    12.197035     4.221457    2.424346     9.114700   \n",
       "atemp       180.0    14.831376     4.961332    3.953480    11.608738   \n",
       "hum         180.0    58.167024    15.139273    0.000000    48.322900   \n",
       "windspeed   180.0    14.387168     5.804831    3.042356    10.386993   \n",
       "casual      180.0   336.427778   388.210074    9.000000   112.750000   \n",
       "registered  180.0  2271.983333  1203.033760  416.000000  1378.250000   \n",
       "cnt         180.0  2608.411111  1402.659942  431.000000  1536.000000   \n",
       "\n",
       "                    50%          75%          max  \n",
       "instant      365.500000   410.250000   730.000000  \n",
       "yr             0.500000     1.000000     1.000000  \n",
       "mnth           2.000000     3.000000    12.000000  \n",
       "temp          11.706525    14.849124    23.472500  \n",
       "atemp         14.125325    17.985650    27.430850  \n",
       "hum           54.375000    69.339675    94.826100  \n",
       "windspeed     13.596545    17.088668    34.000021  \n",
       "casual       219.500000   424.000000  3155.000000  \n",
       "registered  1869.000000  3168.250000  5315.000000  \n",
       "cnt         2222.500000  3463.750000  7836.000000  "
      ]
     },
     "execution_count": 9,
     "metadata": {},
     "output_type": "execute_result"
    }
   ],
   "source": [
    "df_invierno.describe().T"
   ]
  },
  {
   "cell_type": "code",
   "execution_count": 19,
   "metadata": {},
   "outputs": [
    {
     "data": {
      "text/plain": [
       "0    12.15290\n",
       "1    16.28750\n",
       "2    17.58145\n",
       "Name: atemp, dtype: float64"
      ]
     },
     "execution_count": 19,
     "metadata": {},
     "output_type": "execute_result"
    }
   ],
   "source": [
    "df_invierno['atemp'].mode()"
   ]
  },
  {
   "cell_type": "code",
   "execution_count": 20,
   "metadata": {},
   "outputs": [
    {
     "data": {
      "text/plain": [
       "0    39.5833\n",
       "1    44.1250\n",
       "2    53.7917\n",
       "3    75.2917\n",
       "4    77.5417\n",
       "Name: hum, dtype: float64"
      ]
     },
     "execution_count": 20,
     "metadata": {},
     "output_type": "execute_result"
    }
   ],
   "source": [
    "df_invierno['hum'].mode()"
   ]
  },
  {
   "cell_type": "code",
   "execution_count": 21,
   "metadata": {},
   "outputs": [
    {
     "data": {
      "text/plain": [
       "0    10.792293\n",
       "1    11.304642\n",
       "2    24.250650\n",
       "Name: windspeed, dtype: float64"
      ]
     },
     "execution_count": 21,
     "metadata": {},
     "output_type": "execute_result"
    }
   ],
   "source": [
    "df_invierno['windspeed'].mode()"
   ]
  },
  {
   "attachments": {},
   "cell_type": "markdown",
   "metadata": {},
   "source": [
    "---"
   ]
  },
  {
   "cell_type": "code",
   "execution_count": 11,
   "metadata": {},
   "outputs": [
    {
     "data": {
      "text/plain": [
       "(188, 16)"
      ]
     },
     "execution_count": 11,
     "metadata": {},
     "output_type": "execute_result"
    }
   ],
   "source": [
    "df_verano= df2[df2['season']=='verano']\n",
    "df_verano.shape"
   ]
  },
  {
   "cell_type": "code",
   "execution_count": 12,
   "metadata": {},
   "outputs": [
    {
     "data": {
      "text/html": [
       "<div>\n",
       "<style scoped>\n",
       "    .dataframe tbody tr th:only-of-type {\n",
       "        vertical-align: middle;\n",
       "    }\n",
       "\n",
       "    .dataframe tbody tr th {\n",
       "        vertical-align: top;\n",
       "    }\n",
       "\n",
       "    .dataframe thead th {\n",
       "        text-align: right;\n",
       "    }\n",
       "</style>\n",
       "<table border=\"1\" class=\"dataframe\">\n",
       "  <thead>\n",
       "    <tr style=\"text-align: right;\">\n",
       "      <th></th>\n",
       "      <th>count</th>\n",
       "      <th>mean</th>\n",
       "      <th>std</th>\n",
       "      <th>min</th>\n",
       "      <th>25%</th>\n",
       "      <th>50%</th>\n",
       "      <th>75%</th>\n",
       "      <th>max</th>\n",
       "    </tr>\n",
       "  </thead>\n",
       "  <tbody>\n",
       "    <tr>\n",
       "      <th>instant</th>\n",
       "      <td>188.0</td>\n",
       "      <td>401.000000</td>\n",
       "      <td>184.998771</td>\n",
       "      <td>172.000000</td>\n",
       "      <td>218.750000</td>\n",
       "      <td>401.000000</td>\n",
       "      <td>583.250000</td>\n",
       "      <td>630.000000</td>\n",
       "    </tr>\n",
       "    <tr>\n",
       "      <th>yr</th>\n",
       "      <td>188.0</td>\n",
       "      <td>0.500000</td>\n",
       "      <td>0.501335</td>\n",
       "      <td>0.000000</td>\n",
       "      <td>0.000000</td>\n",
       "      <td>0.500000</td>\n",
       "      <td>1.000000</td>\n",
       "      <td>1.000000</td>\n",
       "    </tr>\n",
       "    <tr>\n",
       "      <th>mnth</th>\n",
       "      <td>188.0</td>\n",
       "      <td>7.691489</td>\n",
       "      <td>0.948137</td>\n",
       "      <td>6.000000</td>\n",
       "      <td>7.000000</td>\n",
       "      <td>8.000000</td>\n",
       "      <td>8.000000</td>\n",
       "      <td>9.000000</td>\n",
       "    </tr>\n",
       "    <tr>\n",
       "      <th>temp</th>\n",
       "      <td>188.0</td>\n",
       "      <td>28.958682</td>\n",
       "      <td>2.904749</td>\n",
       "      <td>19.235847</td>\n",
       "      <td>27.350413</td>\n",
       "      <td>29.297903</td>\n",
       "      <td>30.758538</td>\n",
       "      <td>35.328347</td>\n",
       "    </tr>\n",
       "    <tr>\n",
       "      <th>atemp</th>\n",
       "      <td>188.0</td>\n",
       "      <td>32.794920</td>\n",
       "      <td>3.602803</td>\n",
       "      <td>12.120000</td>\n",
       "      <td>30.926987</td>\n",
       "      <td>32.828750</td>\n",
       "      <td>34.904637</td>\n",
       "      <td>42.044800</td>\n",
       "    </tr>\n",
       "    <tr>\n",
       "      <th>hum</th>\n",
       "      <td>188.0</td>\n",
       "      <td>63.348206</td>\n",
       "      <td>11.934864</td>\n",
       "      <td>36.000000</td>\n",
       "      <td>55.083300</td>\n",
       "      <td>63.500000</td>\n",
       "      <td>71.260425</td>\n",
       "      <td>93.956500</td>\n",
       "    </tr>\n",
       "    <tr>\n",
       "      <th>windspeed</th>\n",
       "      <td>188.0</td>\n",
       "      <td>11.530366</td>\n",
       "      <td>3.988275</td>\n",
       "      <td>4.292744</td>\n",
       "      <td>8.781405</td>\n",
       "      <td>11.062705</td>\n",
       "      <td>14.000136</td>\n",
       "      <td>25.166339</td>\n",
       "    </tr>\n",
       "    <tr>\n",
       "      <th>casual</th>\n",
       "      <td>188.0</td>\n",
       "      <td>1202.611702</td>\n",
       "      <td>595.975032</td>\n",
       "      <td>118.000000</td>\n",
       "      <td>781.750000</td>\n",
       "      <td>1050.500000</td>\n",
       "      <td>1424.000000</td>\n",
       "      <td>3160.000000</td>\n",
       "    </tr>\n",
       "    <tr>\n",
       "      <th>registered</th>\n",
       "      <td>188.0</td>\n",
       "      <td>4441.691489</td>\n",
       "      <td>1304.626949</td>\n",
       "      <td>889.000000</td>\n",
       "      <td>3477.250000</td>\n",
       "      <td>4110.500000</td>\n",
       "      <td>5667.750000</td>\n",
       "      <td>6917.000000</td>\n",
       "    </tr>\n",
       "    <tr>\n",
       "      <th>cnt</th>\n",
       "      <td>188.0</td>\n",
       "      <td>5644.303191</td>\n",
       "      <td>1459.800381</td>\n",
       "      <td>1115.000000</td>\n",
       "      <td>4586.500000</td>\n",
       "      <td>5353.500000</td>\n",
       "      <td>6929.250000</td>\n",
       "      <td>8714.000000</td>\n",
       "    </tr>\n",
       "  </tbody>\n",
       "</table>\n",
       "</div>"
      ],
      "text/plain": [
       "            count         mean          std          min          25%  \\\n",
       "instant     188.0   401.000000   184.998771   172.000000   218.750000   \n",
       "yr          188.0     0.500000     0.501335     0.000000     0.000000   \n",
       "mnth        188.0     7.691489     0.948137     6.000000     7.000000   \n",
       "temp        188.0    28.958682     2.904749    19.235847    27.350413   \n",
       "atemp       188.0    32.794920     3.602803    12.120000    30.926987   \n",
       "hum         188.0    63.348206    11.934864    36.000000    55.083300   \n",
       "windspeed   188.0    11.530366     3.988275     4.292744     8.781405   \n",
       "casual      188.0  1202.611702   595.975032   118.000000   781.750000   \n",
       "registered  188.0  4441.691489  1304.626949   889.000000  3477.250000   \n",
       "cnt         188.0  5644.303191  1459.800381  1115.000000  4586.500000   \n",
       "\n",
       "                    50%          75%          max  \n",
       "instant      401.000000   583.250000   630.000000  \n",
       "yr             0.500000     1.000000     1.000000  \n",
       "mnth           8.000000     8.000000     9.000000  \n",
       "temp          29.297903    30.758538    35.328347  \n",
       "atemp         32.828750    34.904637    42.044800  \n",
       "hum           63.500000    71.260425    93.956500  \n",
       "windspeed     11.062705    14.000136    25.166339  \n",
       "casual      1050.500000  1424.000000  3160.000000  \n",
       "registered  4110.500000  5667.750000  6917.000000  \n",
       "cnt         5353.500000  6929.250000  8714.000000  "
      ]
     },
     "execution_count": 12,
     "metadata": {},
     "output_type": "execute_result"
    }
   ],
   "source": [
    "df_verano.describe().T"
   ]
  },
  {
   "cell_type": "code",
   "execution_count": 22,
   "metadata": {},
   "outputs": [
    {
     "data": {
      "text/plain": [
       "0    32.7344\n",
       "Name: atemp, dtype: float64"
      ]
     },
     "execution_count": 22,
     "metadata": {},
     "output_type": "execute_result"
    }
   ],
   "source": [
    "df_verano['atemp'].mode()"
   ]
  },
  {
   "cell_type": "code",
   "execution_count": 23,
   "metadata": {},
   "outputs": [
    {
     "data": {
      "text/plain": [
       "0    59.0417\n",
       "Name: hum, dtype: float64"
      ]
     },
     "execution_count": 23,
     "metadata": {},
     "output_type": "execute_result"
    }
   ],
   "source": [
    "df_verano['hum'].mode()"
   ]
  },
  {
   "cell_type": "code",
   "execution_count": 24,
   "metadata": {},
   "outputs": [
    {
     "data": {
      "text/plain": [
       "0     8.666718\n",
       "1     9.500332\n",
       "2    10.125107\n",
       "3    10.166714\n",
       "4    13.417286\n",
       "5    14.167418\n",
       "6    15.333486\n",
       "Name: windspeed, dtype: float64"
      ]
     },
     "execution_count": 24,
     "metadata": {},
     "output_type": "execute_result"
    }
   ],
   "source": [
    "df_verano['windspeed'].mode()"
   ]
  },
  {
   "attachments": {},
   "cell_type": "markdown",
   "metadata": {},
   "source": [
    "---"
   ]
  },
  {
   "cell_type": "code",
   "execution_count": 13,
   "metadata": {},
   "outputs": [
    {
     "data": {
      "text/plain": [
       "(184, 16)"
      ]
     },
     "execution_count": 13,
     "metadata": {},
     "output_type": "execute_result"
    }
   ],
   "source": [
    "df_primavera= df2[df2['season']=='primavera']\n",
    "df_primavera.shape"
   ]
  },
  {
   "cell_type": "code",
   "execution_count": 14,
   "metadata": {},
   "outputs": [
    {
     "data": {
      "text/html": [
       "<div>\n",
       "<style scoped>\n",
       "    .dataframe tbody tr th:only-of-type {\n",
       "        vertical-align: middle;\n",
       "    }\n",
       "\n",
       "    .dataframe tbody tr th {\n",
       "        vertical-align: top;\n",
       "    }\n",
       "\n",
       "    .dataframe thead th {\n",
       "        text-align: right;\n",
       "    }\n",
       "</style>\n",
       "<table border=\"1\" class=\"dataframe\">\n",
       "  <thead>\n",
       "    <tr style=\"text-align: right;\">\n",
       "      <th></th>\n",
       "      <th>count</th>\n",
       "      <th>mean</th>\n",
       "      <th>std</th>\n",
       "      <th>min</th>\n",
       "      <th>25%</th>\n",
       "      <th>50%</th>\n",
       "      <th>75%</th>\n",
       "      <th>max</th>\n",
       "    </tr>\n",
       "  </thead>\n",
       "  <tbody>\n",
       "    <tr>\n",
       "      <th>instant</th>\n",
       "      <td>184.0</td>\n",
       "      <td>308.000000</td>\n",
       "      <td>184.925269</td>\n",
       "      <td>80.000000</td>\n",
       "      <td>125.750000</td>\n",
       "      <td>308.000000</td>\n",
       "      <td>490.250000</td>\n",
       "      <td>536.000000</td>\n",
       "    </tr>\n",
       "    <tr>\n",
       "      <th>yr</th>\n",
       "      <td>184.0</td>\n",
       "      <td>0.500000</td>\n",
       "      <td>0.501364</td>\n",
       "      <td>0.000000</td>\n",
       "      <td>0.000000</td>\n",
       "      <td>0.500000</td>\n",
       "      <td>1.000000</td>\n",
       "      <td>1.000000</td>\n",
       "    </tr>\n",
       "    <tr>\n",
       "      <th>mnth</th>\n",
       "      <td>184.0</td>\n",
       "      <td>4.652174</td>\n",
       "      <td>0.951671</td>\n",
       "      <td>3.000000</td>\n",
       "      <td>4.000000</td>\n",
       "      <td>5.000000</td>\n",
       "      <td>5.000000</td>\n",
       "      <td>6.000000</td>\n",
       "    </tr>\n",
       "    <tr>\n",
       "      <th>temp</th>\n",
       "      <td>184.0</td>\n",
       "      <td>22.320611</td>\n",
       "      <td>5.028649</td>\n",
       "      <td>10.374763</td>\n",
       "      <td>18.783115</td>\n",
       "      <td>23.045423</td>\n",
       "      <td>25.898347</td>\n",
       "      <td>33.141653</td>\n",
       "    </tr>\n",
       "    <tr>\n",
       "      <th>atemp</th>\n",
       "      <td>184.0</td>\n",
       "      <td>26.015366</td>\n",
       "      <td>5.401096</td>\n",
       "      <td>12.516950</td>\n",
       "      <td>22.482087</td>\n",
       "      <td>26.910625</td>\n",
       "      <td>29.743375</td>\n",
       "      <td>37.878950</td>\n",
       "    </tr>\n",
       "    <tr>\n",
       "      <th>hum</th>\n",
       "      <td>184.0</td>\n",
       "      <td>62.694833</td>\n",
       "      <td>15.284075</td>\n",
       "      <td>25.416700</td>\n",
       "      <td>50.093775</td>\n",
       "      <td>64.437500</td>\n",
       "      <td>74.166650</td>\n",
       "      <td>92.250000</td>\n",
       "    </tr>\n",
       "    <tr>\n",
       "      <th>windspeed</th>\n",
       "      <td>184.0</td>\n",
       "      <td>13.634978</td>\n",
       "      <td>4.799113</td>\n",
       "      <td>4.417256</td>\n",
       "      <td>9.864795</td>\n",
       "      <td>13.000077</td>\n",
       "      <td>16.708259</td>\n",
       "      <td>26.000489</td>\n",
       "    </tr>\n",
       "    <tr>\n",
       "      <th>casual</th>\n",
       "      <td>184.0</td>\n",
       "      <td>1106.097826</td>\n",
       "      <td>737.590829</td>\n",
       "      <td>120.000000</td>\n",
       "      <td>650.250000</td>\n",
       "      <td>867.000000</td>\n",
       "      <td>1463.250000</td>\n",
       "      <td>3410.000000</td>\n",
       "    </tr>\n",
       "    <tr>\n",
       "      <th>registered</th>\n",
       "      <td>184.0</td>\n",
       "      <td>3886.233696</td>\n",
       "      <td>1353.375628</td>\n",
       "      <td>674.000000</td>\n",
       "      <td>3012.500000</td>\n",
       "      <td>3844.000000</td>\n",
       "      <td>4927.750000</td>\n",
       "      <td>6456.000000</td>\n",
       "    </tr>\n",
       "    <tr>\n",
       "      <th>cnt</th>\n",
       "      <td>184.0</td>\n",
       "      <td>4992.331522</td>\n",
       "      <td>1695.977235</td>\n",
       "      <td>795.000000</td>\n",
       "      <td>4003.000000</td>\n",
       "      <td>4941.500000</td>\n",
       "      <td>6377.000000</td>\n",
       "      <td>8362.000000</td>\n",
       "    </tr>\n",
       "  </tbody>\n",
       "</table>\n",
       "</div>"
      ],
      "text/plain": [
       "            count         mean          std         min          25%  \\\n",
       "instant     184.0   308.000000   184.925269   80.000000   125.750000   \n",
       "yr          184.0     0.500000     0.501364    0.000000     0.000000   \n",
       "mnth        184.0     4.652174     0.951671    3.000000     4.000000   \n",
       "temp        184.0    22.320611     5.028649   10.374763    18.783115   \n",
       "atemp       184.0    26.015366     5.401096   12.516950    22.482087   \n",
       "hum         184.0    62.694833    15.284075   25.416700    50.093775   \n",
       "windspeed   184.0    13.634978     4.799113    4.417256     9.864795   \n",
       "casual      184.0  1106.097826   737.590829  120.000000   650.250000   \n",
       "registered  184.0  3886.233696  1353.375628  674.000000  3012.500000   \n",
       "cnt         184.0  4992.331522  1695.977235  795.000000  4003.000000   \n",
       "\n",
       "                    50%          75%          max  \n",
       "instant      308.000000   490.250000   536.000000  \n",
       "yr             0.500000     1.000000     1.000000  \n",
       "mnth           5.000000     5.000000     6.000000  \n",
       "temp          23.045423    25.898347    33.141653  \n",
       "atemp         26.910625    29.743375    37.878950  \n",
       "hum           64.437500    74.166650    92.250000  \n",
       "windspeed     13.000077    16.708259    26.000489  \n",
       "casual       867.000000  1463.250000  3410.000000  \n",
       "registered  3844.000000  4927.750000  6456.000000  \n",
       "cnt         4941.500000  6377.000000  8362.000000  "
      ]
     },
     "execution_count": 14,
     "metadata": {},
     "output_type": "execute_result"
    }
   ],
   "source": [
    "df_primavera.describe().T"
   ]
  },
  {
   "cell_type": "code",
   "execution_count": 25,
   "metadata": {},
   "outputs": [
    {
     "data": {
      "text/plain": [
       "0    22.50605\n",
       "1    28.59875\n",
       "2    28.72500\n",
       "3    29.76730\n",
       "Name: atemp, dtype: float64"
      ]
     },
     "execution_count": 25,
     "metadata": {},
     "output_type": "execute_result"
    }
   ],
   "source": [
    "df_primavera['atemp'].mode()"
   ]
  },
  {
   "cell_type": "code",
   "execution_count": 26,
   "metadata": {},
   "outputs": [
    {
     "data": {
      "text/plain": [
       "0    45.6250\n",
       "1    65.3750\n",
       "2    67.6250\n",
       "3    69.7083\n",
       "4    72.9583\n",
       "5    75.6667\n",
       "6    83.5417\n",
       "Name: hum, dtype: float64"
      ]
     },
     "execution_count": 26,
     "metadata": {},
     "output_type": "execute_result"
    }
   ],
   "source": [
    "df_primavera['hum'].mode()"
   ]
  },
  {
   "cell_type": "code",
   "execution_count": 27,
   "metadata": {},
   "outputs": [
    {
     "data": {
      "text/plain": [
       "0     6.834000\n",
       "1     9.166739\n",
       "2    10.958989\n",
       "3    11.250104\n",
       "4    13.875164\n",
       "5    15.458575\n",
       "6    16.791339\n",
       "7    20.334232\n",
       "Name: windspeed, dtype: float64"
      ]
     },
     "execution_count": 27,
     "metadata": {},
     "output_type": "execute_result"
    }
   ],
   "source": [
    "df_primavera['windspeed'].mode()"
   ]
  },
  {
   "cell_type": "markdown",
   "metadata": {},
   "source": [
    "---"
   ]
  },
  {
   "cell_type": "code",
   "execution_count": 15,
   "metadata": {},
   "outputs": [
    {
     "data": {
      "text/plain": [
       "(178, 16)"
      ]
     },
     "execution_count": 15,
     "metadata": {},
     "output_type": "execute_result"
    }
   ],
   "source": [
    "df_otoño= df2[df2['season']=='otoño']\n",
    "df_otoño.shape"
   ]
  },
  {
   "cell_type": "code",
   "execution_count": 18,
   "metadata": {},
   "outputs": [
    {
     "data": {
      "text/html": [
       "<div>\n",
       "<style scoped>\n",
       "    .dataframe tbody tr th:only-of-type {\n",
       "        vertical-align: middle;\n",
       "    }\n",
       "\n",
       "    .dataframe tbody tr th {\n",
       "        vertical-align: top;\n",
       "    }\n",
       "\n",
       "    .dataframe thead th {\n",
       "        text-align: right;\n",
       "    }\n",
       "</style>\n",
       "<table border=\"1\" class=\"dataframe\">\n",
       "  <thead>\n",
       "    <tr style=\"text-align: right;\">\n",
       "      <th></th>\n",
       "      <th>count</th>\n",
       "      <th>mean</th>\n",
       "      <th>std</th>\n",
       "      <th>min</th>\n",
       "      <th>25%</th>\n",
       "      <th>50%</th>\n",
       "      <th>75%</th>\n",
       "      <th>max</th>\n",
       "    </tr>\n",
       "  </thead>\n",
       "  <tbody>\n",
       "    <tr>\n",
       "      <th>instant</th>\n",
       "      <td>178.0</td>\n",
       "      <td>492.500000</td>\n",
       "      <td>184.819235</td>\n",
       "      <td>266.000000</td>\n",
       "      <td>310.250000</td>\n",
       "      <td>492.500000</td>\n",
       "      <td>674.750000</td>\n",
       "      <td>719.000000</td>\n",
       "    </tr>\n",
       "    <tr>\n",
       "      <th>yr</th>\n",
       "      <td>178.0</td>\n",
       "      <td>0.500000</td>\n",
       "      <td>0.501410</td>\n",
       "      <td>0.000000</td>\n",
       "      <td>0.000000</td>\n",
       "      <td>0.500000</td>\n",
       "      <td>1.000000</td>\n",
       "      <td>1.000000</td>\n",
       "    </tr>\n",
       "    <tr>\n",
       "      <th>mnth</th>\n",
       "      <td>178.0</td>\n",
       "      <td>10.696629</td>\n",
       "      <td>0.919402</td>\n",
       "      <td>9.000000</td>\n",
       "      <td>10.000000</td>\n",
       "      <td>11.000000</td>\n",
       "      <td>11.000000</td>\n",
       "      <td>12.000000</td>\n",
       "    </tr>\n",
       "    <tr>\n",
       "      <th>temp</th>\n",
       "      <td>178.0</td>\n",
       "      <td>17.339148</td>\n",
       "      <td>4.421179</td>\n",
       "      <td>9.054153</td>\n",
       "      <td>13.581240</td>\n",
       "      <td>16.775827</td>\n",
       "      <td>21.055222</td>\n",
       "      <td>26.957500</td>\n",
       "    </tr>\n",
       "    <tr>\n",
       "      <th>atemp</th>\n",
       "      <td>178.0</td>\n",
       "      <td>20.776937</td>\n",
       "      <td>4.776784</td>\n",
       "      <td>11.395650</td>\n",
       "      <td>16.895000</td>\n",
       "      <td>20.469675</td>\n",
       "      <td>25.157550</td>\n",
       "      <td>30.398750</td>\n",
       "    </tr>\n",
       "    <tr>\n",
       "      <th>hum</th>\n",
       "      <td>178.0</td>\n",
       "      <td>66.871917</td>\n",
       "      <td>13.124796</td>\n",
       "      <td>33.347800</td>\n",
       "      <td>57.072925</td>\n",
       "      <td>66.104200</td>\n",
       "      <td>75.687525</td>\n",
       "      <td>97.250000</td>\n",
       "    </tr>\n",
       "    <tr>\n",
       "      <th>windspeed</th>\n",
       "      <td>178.0</td>\n",
       "      <td>11.523637</td>\n",
       "      <td>5.464839</td>\n",
       "      <td>1.500244</td>\n",
       "      <td>7.125450</td>\n",
       "      <td>11.188028</td>\n",
       "      <td>15.249870</td>\n",
       "      <td>28.292425</td>\n",
       "    </tr>\n",
       "    <tr>\n",
       "      <th>casual</th>\n",
       "      <td>178.0</td>\n",
       "      <td>729.112360</td>\n",
       "      <td>606.318118</td>\n",
       "      <td>2.000000</td>\n",
       "      <td>318.500000</td>\n",
       "      <td>544.500000</td>\n",
       "      <td>922.000000</td>\n",
       "      <td>3031.000000</td>\n",
       "    </tr>\n",
       "    <tr>\n",
       "      <th>registered</th>\n",
       "      <td>178.0</td>\n",
       "      <td>3999.050562</td>\n",
       "      <td>1444.782557</td>\n",
       "      <td>20.000000</td>\n",
       "      <td>2974.500000</td>\n",
       "      <td>3815.000000</td>\n",
       "      <td>5075.500000</td>\n",
       "      <td>6946.000000</td>\n",
       "    </tr>\n",
       "    <tr>\n",
       "      <th>cnt</th>\n",
       "      <td>178.0</td>\n",
       "      <td>4728.162921</td>\n",
       "      <td>1699.615261</td>\n",
       "      <td>22.000000</td>\n",
       "      <td>3615.500000</td>\n",
       "      <td>4634.500000</td>\n",
       "      <td>5624.500000</td>\n",
       "      <td>8555.000000</td>\n",
       "    </tr>\n",
       "  </tbody>\n",
       "</table>\n",
       "</div>"
      ],
      "text/plain": [
       "            count         mean          std         min          25%  \\\n",
       "instant     178.0   492.500000   184.819235  266.000000   310.250000   \n",
       "yr          178.0     0.500000     0.501410    0.000000     0.000000   \n",
       "mnth        178.0    10.696629     0.919402    9.000000    10.000000   \n",
       "temp        178.0    17.339148     4.421179    9.054153    13.581240   \n",
       "atemp       178.0    20.776937     4.776784   11.395650    16.895000   \n",
       "hum         178.0    66.871917    13.124796   33.347800    57.072925   \n",
       "windspeed   178.0    11.523637     5.464839    1.500244     7.125450   \n",
       "casual      178.0   729.112360   606.318118    2.000000   318.500000   \n",
       "registered  178.0  3999.050562  1444.782557   20.000000  2974.500000   \n",
       "cnt         178.0  4728.162921  1699.615261   22.000000  3615.500000   \n",
       "\n",
       "                    50%          75%          max  \n",
       "instant      492.500000   674.750000   719.000000  \n",
       "yr             0.500000     1.000000     1.000000  \n",
       "mnth          11.000000    11.000000    12.000000  \n",
       "temp          16.775827    21.055222    26.957500  \n",
       "atemp         20.469675    25.157550    30.398750  \n",
       "hum           66.104200    75.687525    97.250000  \n",
       "windspeed     11.188028    15.249870    28.292425  \n",
       "casual       544.500000   922.000000  3031.000000  \n",
       "registered  3815.000000  5075.500000  6946.000000  \n",
       "cnt         4634.500000  5624.500000  8555.000000  "
      ]
     },
     "execution_count": 18,
     "metadata": {},
     "output_type": "execute_result"
    }
   ],
   "source": [
    "df_otoño.describe().T"
   ]
  },
  {
   "cell_type": "code",
   "execution_count": 28,
   "metadata": {},
   "outputs": [
    {
     "data": {
      "text/plain": [
       "0    30.39875\n",
       "Name: atemp, dtype: float64"
      ]
     },
     "execution_count": 28,
     "metadata": {},
     "output_type": "execute_result"
    }
   ],
   "source": [
    "df_otoño['atemp'].mode()"
   ]
  },
  {
   "cell_type": "code",
   "execution_count": 29,
   "metadata": {},
   "outputs": [
    {
     "data": {
      "text/plain": [
       "0    52.4583\n",
       "1    63.0833\n",
       "2    63.6250\n",
       "3    69.2917\n",
       "4    73.3750\n",
       "Name: hum, dtype: float64"
      ]
     },
     "execution_count": 29,
     "metadata": {},
     "output_type": "execute_result"
    }
   ],
   "source": [
    "df_otoño['hum'].mode()"
   ]
  },
  {
   "cell_type": "code",
   "execution_count": 30,
   "metadata": {},
   "outputs": [
    {
     "data": {
      "text/plain": [
       "0    7.12545\n",
       "Name: windspeed, dtype: float64"
      ]
     },
     "execution_count": 30,
     "metadata": {},
     "output_type": "execute_result"
    }
   ],
   "source": [
    "df_otoño['windspeed'].mode()"
   ]
  }
 ],
 "metadata": {
  "kernelspec": {
   "display_name": "base",
   "language": "python",
   "name": "python3"
  },
  "language_info": {
   "codemirror_mode": {
    "name": "ipython",
    "version": 3
   },
   "file_extension": ".py",
   "mimetype": "text/x-python",
   "name": "python",
   "nbconvert_exporter": "python",
   "pygments_lexer": "ipython3",
   "version": "3.9.13"
  },
  "orig_nbformat": 4,
  "vscode": {
   "interpreter": {
    "hash": "a52af493819045717511545598ab2b73dabca4ca61b402315e0ef2b43666342d"
   }
  }
 },
 "nbformat": 4,
 "nbformat_minor": 2
}
