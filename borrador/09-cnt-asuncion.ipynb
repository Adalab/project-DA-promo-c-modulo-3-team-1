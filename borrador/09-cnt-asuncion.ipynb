{
 "cells": [
  {
   "cell_type": "code",
   "execution_count": 1,
   "metadata": {},
   "outputs": [],
   "source": [
    "import numpy as np\n",
    "import pandas as pd\n",
    "import matplotlib.pyplot as plt\n",
    "import seaborn as sns\n",
    "from scipy import stats\n",
    "from scipy.stats import skew\n",
    "import math\n",
    "from scipy.stats import levene\n",
    "import researchpy as rp\n",
    "from sklearn.preprocessing import StandardScaler\n",
    "import itertools\n",
    "import warnings\n",
    "from sklearn.preprocessing import MinMaxScaler\n",
    "\n",
    "warnings.filterwarnings('ignore')\n",
    "plt.rcParams[\"figure.figsize\"] = (10,8)\n",
    "\n"
   ]
  },
  {
   "attachments": {},
   "cell_type": "markdown",
   "metadata": {},
   "source": [
    "Abrimos el archivo"
   ]
  },
  {
   "cell_type": "code",
   "execution_count": 2,
   "metadata": {},
   "outputs": [],
   "source": [
    "df = pd.read_pickle('../datos/02-bikes-limpio-con-outliers.pickle')"
   ]
  },
  {
   "cell_type": "code",
   "execution_count": 3,
   "metadata": {},
   "outputs": [
    {
     "data": {
      "text/html": [
       "<div>\n",
       "<style scoped>\n",
       "    .dataframe tbody tr th:only-of-type {\n",
       "        vertical-align: middle;\n",
       "    }\n",
       "\n",
       "    .dataframe tbody tr th {\n",
       "        vertical-align: top;\n",
       "    }\n",
       "\n",
       "    .dataframe thead th {\n",
       "        text-align: right;\n",
       "    }\n",
       "</style>\n",
       "<table border=\"1\" class=\"dataframe\">\n",
       "  <thead>\n",
       "    <tr style=\"text-align: right;\">\n",
       "      <th></th>\n",
       "      <th>instant</th>\n",
       "      <th>dteday</th>\n",
       "      <th>season</th>\n",
       "      <th>yr</th>\n",
       "      <th>mnth</th>\n",
       "      <th>holiday</th>\n",
       "      <th>weekday</th>\n",
       "      <th>workingday</th>\n",
       "      <th>weathersit</th>\n",
       "      <th>temp</th>\n",
       "      <th>atemp</th>\n",
       "      <th>hum</th>\n",
       "      <th>windspeed</th>\n",
       "      <th>casual</th>\n",
       "      <th>registered</th>\n",
       "      <th>cnt</th>\n",
       "    </tr>\n",
       "  </thead>\n",
       "  <tbody>\n",
       "    <tr>\n",
       "      <th>0</th>\n",
       "      <td>1</td>\n",
       "      <td>2018-01-01</td>\n",
       "      <td>invierno</td>\n",
       "      <td>0</td>\n",
       "      <td>1</td>\n",
       "      <td>festivo</td>\n",
       "      <td>1</td>\n",
       "      <td>laborable</td>\n",
       "      <td>2</td>\n",
       "      <td>14.110847</td>\n",
       "      <td>18.18125</td>\n",
       "      <td>80.5833</td>\n",
       "      <td>10.749882</td>\n",
       "      <td>331</td>\n",
       "      <td>654</td>\n",
       "      <td>985</td>\n",
       "    </tr>\n",
       "    <tr>\n",
       "      <th>1</th>\n",
       "      <td>2</td>\n",
       "      <td>2018-01-02</td>\n",
       "      <td>invierno</td>\n",
       "      <td>0</td>\n",
       "      <td>1</td>\n",
       "      <td>no festivo</td>\n",
       "      <td>2</td>\n",
       "      <td>laborable</td>\n",
       "      <td>2</td>\n",
       "      <td>14.902598</td>\n",
       "      <td>17.68695</td>\n",
       "      <td>69.6087</td>\n",
       "      <td>16.652113</td>\n",
       "      <td>131</td>\n",
       "      <td>670</td>\n",
       "      <td>801</td>\n",
       "    </tr>\n",
       "  </tbody>\n",
       "</table>\n",
       "</div>"
      ],
      "text/plain": [
       "   instant     dteday    season  yr  mnth     holiday weekday workingday  \\\n",
       "0        1 2018-01-01  invierno   0     1     festivo       1  laborable   \n",
       "1        2 2018-01-02  invierno   0     1  no festivo       2  laborable   \n",
       "\n",
       "  weathersit       temp     atemp      hum  windspeed  casual  registered  cnt  \n",
       "0          2  14.110847  18.18125  80.5833  10.749882     331         654  985  \n",
       "1          2  14.902598  17.68695  69.6087  16.652113     131         670  801  "
      ]
     },
     "execution_count": 3,
     "metadata": {},
     "output_type": "execute_result"
    }
   ],
   "source": [
    "df.head(2)"
   ]
  },
  {
   "cell_type": "code",
   "execution_count": 4,
   "metadata": {},
   "outputs": [],
   "source": [
    "df_r = df.drop([\"casual\",\"instant\", \"registered\"], axis=1)"
   ]
  },
  {
   "cell_type": "code",
   "execution_count": 5,
   "metadata": {},
   "outputs": [
    {
     "data": {
      "text/html": [
       "<div>\n",
       "<style scoped>\n",
       "    .dataframe tbody tr th:only-of-type {\n",
       "        vertical-align: middle;\n",
       "    }\n",
       "\n",
       "    .dataframe tbody tr th {\n",
       "        vertical-align: top;\n",
       "    }\n",
       "\n",
       "    .dataframe thead th {\n",
       "        text-align: right;\n",
       "    }\n",
       "</style>\n",
       "<table border=\"1\" class=\"dataframe\">\n",
       "  <thead>\n",
       "    <tr style=\"text-align: right;\">\n",
       "      <th></th>\n",
       "      <th>dteday</th>\n",
       "      <th>season</th>\n",
       "      <th>yr</th>\n",
       "      <th>mnth</th>\n",
       "      <th>holiday</th>\n",
       "      <th>weekday</th>\n",
       "      <th>workingday</th>\n",
       "      <th>weathersit</th>\n",
       "      <th>temp</th>\n",
       "      <th>atemp</th>\n",
       "      <th>hum</th>\n",
       "      <th>windspeed</th>\n",
       "      <th>cnt</th>\n",
       "    </tr>\n",
       "  </thead>\n",
       "  <tbody>\n",
       "    <tr>\n",
       "      <th>0</th>\n",
       "      <td>2018-01-01</td>\n",
       "      <td>invierno</td>\n",
       "      <td>0</td>\n",
       "      <td>1</td>\n",
       "      <td>festivo</td>\n",
       "      <td>1</td>\n",
       "      <td>laborable</td>\n",
       "      <td>2</td>\n",
       "      <td>14.110847</td>\n",
       "      <td>18.18125</td>\n",
       "      <td>80.5833</td>\n",
       "      <td>10.749882</td>\n",
       "      <td>985</td>\n",
       "    </tr>\n",
       "    <tr>\n",
       "      <th>1</th>\n",
       "      <td>2018-01-02</td>\n",
       "      <td>invierno</td>\n",
       "      <td>0</td>\n",
       "      <td>1</td>\n",
       "      <td>no festivo</td>\n",
       "      <td>2</td>\n",
       "      <td>laborable</td>\n",
       "      <td>2</td>\n",
       "      <td>14.902598</td>\n",
       "      <td>17.68695</td>\n",
       "      <td>69.6087</td>\n",
       "      <td>16.652113</td>\n",
       "      <td>801</td>\n",
       "    </tr>\n",
       "    <tr>\n",
       "      <th>2</th>\n",
       "      <td>2018-01-03</td>\n",
       "      <td>invierno</td>\n",
       "      <td>0</td>\n",
       "      <td>1</td>\n",
       "      <td>no festivo</td>\n",
       "      <td>3</td>\n",
       "      <td>laborable</td>\n",
       "      <td>1</td>\n",
       "      <td>8.050924</td>\n",
       "      <td>9.47025</td>\n",
       "      <td>43.7273</td>\n",
       "      <td>16.636703</td>\n",
       "      <td>1349</td>\n",
       "    </tr>\n",
       "    <tr>\n",
       "      <th>3</th>\n",
       "      <td>2018-01-04</td>\n",
       "      <td>invierno</td>\n",
       "      <td>0</td>\n",
       "      <td>1</td>\n",
       "      <td>no festivo</td>\n",
       "      <td>4</td>\n",
       "      <td>laborable</td>\n",
       "      <td>1</td>\n",
       "      <td>8.200000</td>\n",
       "      <td>10.60610</td>\n",
       "      <td>59.0435</td>\n",
       "      <td>10.739832</td>\n",
       "      <td>1562</td>\n",
       "    </tr>\n",
       "    <tr>\n",
       "      <th>4</th>\n",
       "      <td>2018-01-05</td>\n",
       "      <td>invierno</td>\n",
       "      <td>0</td>\n",
       "      <td>1</td>\n",
       "      <td>no festivo</td>\n",
       "      <td>5</td>\n",
       "      <td>laborable</td>\n",
       "      <td>1</td>\n",
       "      <td>9.305237</td>\n",
       "      <td>11.46350</td>\n",
       "      <td>43.6957</td>\n",
       "      <td>12.522300</td>\n",
       "      <td>1600</td>\n",
       "    </tr>\n",
       "  </tbody>\n",
       "</table>\n",
       "</div>"
      ],
      "text/plain": [
       "      dteday    season  yr  mnth     holiday weekday workingday weathersit  \\\n",
       "0 2018-01-01  invierno   0     1     festivo       1  laborable          2   \n",
       "1 2018-01-02  invierno   0     1  no festivo       2  laborable          2   \n",
       "2 2018-01-03  invierno   0     1  no festivo       3  laborable          1   \n",
       "3 2018-01-04  invierno   0     1  no festivo       4  laborable          1   \n",
       "4 2018-01-05  invierno   0     1  no festivo       5  laborable          1   \n",
       "\n",
       "        temp     atemp      hum  windspeed   cnt  \n",
       "0  14.110847  18.18125  80.5833  10.749882   985  \n",
       "1  14.902598  17.68695  69.6087  16.652113   801  \n",
       "2   8.050924   9.47025  43.7273  16.636703  1349  \n",
       "3   8.200000  10.60610  59.0435  10.739832  1562  \n",
       "4   9.305237  11.46350  43.6957  12.522300  1600  "
      ]
     },
     "execution_count": 5,
     "metadata": {},
     "output_type": "execute_result"
    }
   ],
   "source": [
    "df_r.head()"
   ]
  },
  {
   "attachments": {},
   "cell_type": "markdown",
   "metadata": {},
   "source": [
    "### Test de normalidad Variable Respuesta (ASUNCIÓN DE NORMALIDAD)"
   ]
  },
  {
   "cell_type": "code",
   "execution_count": 6,
   "metadata": {},
   "outputs": [
    {
     "data": {
      "image/png": "[encoded data removed]",
      "text/plain": [
       "<Figure size 1000x800 with 1 Axes>"
      ]
     },
     "metadata": {},
     "output_type": "display_data"
    }
   ],
   "source": [
    "sns.distplot(\n",
    "    df_r[\"cnt\"], \n",
    "    #hist = False, \n",
    "    color = \"blue\", \n",
    "    kde_kws = {\"shade\": True, \"linewidth\": 1});"
   ]
  },
  {
   "cell_type": "code",
   "execution_count": 7,
   "metadata": {},
   "outputs": [
    {
     "data": {
      "text/plain": [
       "dteday        0\n",
       "season        0\n",
       "yr            0\n",
       "mnth          0\n",
       "holiday       0\n",
       "weekday       0\n",
       "workingday    0\n",
       "weathersit    0\n",
       "temp          0\n",
       "atemp         0\n",
       "hum           0\n",
       "windspeed     0\n",
       "cnt           0\n",
       "dtype: int64"
      ]
     },
     "execution_count": 7,
     "metadata": {},
     "output_type": "execute_result"
    }
   ],
   "source": [
    "df_r.isnull().sum()"
   ]
  },
  {
   "cell_type": "code",
   "execution_count": 8,
   "metadata": {},
   "outputs": [
    {
     "data": {
      "text/plain": [
       "ShapiroResult(statistic=0.980247974395752, pvalue=2.31170904640976e-08)"
      ]
     },
     "execution_count": 8,
     "metadata": {},
     "output_type": "execute_result"
    }
   ],
   "source": [
    "stats.shapiro(df_r[\"cnt\"])"
   ]
  },
  {
   "attachments": {},
   "cell_type": "markdown",
   "metadata": {},
   "source": [
    "Viendo el resultado que nos da el test Shapiro en nuestra variable respuesta, vemos que el valor que presenta es menor que 0.05, por tanto debemos rechazar la hipotesis nula, es decir, nuestros datos NO SON NORMALES!"
   ]
  },
  {
   "attachments": {},
   "cell_type": "markdown",
   "metadata": {},
   "source": [
    "---"
   ]
  },
  {
   "attachments": {},
   "cell_type": "markdown",
   "metadata": {},
   "source": [
    "### ASUNCIÓN DE INDEPENDENCIA"
   ]
  },
  {
   "cell_type": "code",
   "execution_count": 9,
   "metadata": {},
   "outputs": [],
   "source": [
    "df_r_numericas = df_r.select_dtypes(include=np.number)"
   ]
  },
  {
   "cell_type": "code",
   "execution_count": 10,
   "metadata": {},
   "outputs": [],
   "source": [
    "df_r_continuas = pd.DataFrame(df_r[[\"temp\", \"atemp\", \"hum\", \"windspeed\"]])"
   ]
  },
  {
   "cell_type": "code",
   "execution_count": 11,
   "metadata": {},
   "outputs": [
    {
     "data": {
      "text/html": [
       "<div>\n",
       "<style scoped>\n",
       "    .dataframe tbody tr th:only-of-type {\n",
       "        vertical-align: middle;\n",
       "    }\n",
       "\n",
       "    .dataframe tbody tr th {\n",
       "        vertical-align: top;\n",
       "    }\n",
       "\n",
       "    .dataframe thead th {\n",
       "        text-align: right;\n",
       "    }\n",
       "</style>\n",
       "<table border=\"1\" class=\"dataframe\">\n",
       "  <thead>\n",
       "    <tr style=\"text-align: right;\">\n",
       "      <th></th>\n",
       "      <th>temp</th>\n",
       "      <th>atemp</th>\n",
       "      <th>hum</th>\n",
       "      <th>windspeed</th>\n",
       "    </tr>\n",
       "  </thead>\n",
       "  <tbody>\n",
       "    <tr>\n",
       "      <th>0</th>\n",
       "      <td>14.110847</td>\n",
       "      <td>18.18125</td>\n",
       "      <td>80.5833</td>\n",
       "      <td>10.749882</td>\n",
       "    </tr>\n",
       "    <tr>\n",
       "      <th>1</th>\n",
       "      <td>14.902598</td>\n",
       "      <td>17.68695</td>\n",
       "      <td>69.6087</td>\n",
       "      <td>16.652113</td>\n",
       "    </tr>\n",
       "    <tr>\n",
       "      <th>2</th>\n",
       "      <td>8.050924</td>\n",
       "      <td>9.47025</td>\n",
       "      <td>43.7273</td>\n",
       "      <td>16.636703</td>\n",
       "    </tr>\n",
       "    <tr>\n",
       "      <th>3</th>\n",
       "      <td>8.200000</td>\n",
       "      <td>10.60610</td>\n",
       "      <td>59.0435</td>\n",
       "      <td>10.739832</td>\n",
       "    </tr>\n",
       "    <tr>\n",
       "      <th>4</th>\n",
       "      <td>9.305237</td>\n",
       "      <td>11.46350</td>\n",
       "      <td>43.6957</td>\n",
       "      <td>12.522300</td>\n",
       "    </tr>\n",
       "  </tbody>\n",
       "</table>\n",
       "</div>"
      ],
      "text/plain": [
       "        temp     atemp      hum  windspeed\n",
       "0  14.110847  18.18125  80.5833  10.749882\n",
       "1  14.902598  17.68695  69.6087  16.652113\n",
       "2   8.050924   9.47025  43.7273  16.636703\n",
       "3   8.200000  10.60610  59.0435  10.739832\n",
       "4   9.305237  11.46350  43.6957  12.522300"
      ]
     },
     "execution_count": 11,
     "metadata": {},
     "output_type": "execute_result"
    }
   ],
   "source": [
    "df_r_continuas.head()"
   ]
  },
  {
   "cell_type": "code",
   "execution_count": 12,
   "metadata": {},
   "outputs": [
    {
     "data": {
      "image/png": "[encoded data removed]",
      "text/plain": [
       "<Figure size 1000x800 with 2 Axes>"
      ]
     },
     "metadata": {},
     "output_type": "display_data"
    }
   ],
   "source": [
    "mask = np.triu(np.ones_like(df_r_continuas.corr(), dtype=np.bool))\n",
    "\n",
    "sns.heatmap(df_r_continuas.corr(), # calculamos la correlación. En este caso, como no estamos especificando nada la correlación será la de Pearson.\n",
    "            cmap = \"YlGnBu\", # para especoficar el color del mapa\n",
    "           annot = True, \n",
    "           mask = mask); # para sacar el valor de la correlación"
   ]
  },
  {
   "cell_type": "code",
   "execution_count": 13,
   "metadata": {},
   "outputs": [
    {
     "data": {
      "text/plain": [
       "Index(['dteday', 'season', 'yr', 'mnth', 'holiday', 'weekday', 'workingday',\n",
       "       'weathersit', 'temp', 'atemp', 'hum', 'windspeed'],\n",
       "      dtype='object')"
      ]
     },
     "execution_count": 13,
     "metadata": {},
     "output_type": "execute_result"
    }
   ],
   "source": [
    "predictoras = df_r.columns.drop(\"cnt\")\n",
    "predictoras"
   ]
  },
  {
   "cell_type": "code",
   "execution_count": 14,
   "metadata": {},
   "outputs": [
    {
     "data": {
      "text/html": [
       "<div>\n",
       "<style scoped>\n",
       "    .dataframe tbody tr th:only-of-type {\n",
       "        vertical-align: middle;\n",
       "    }\n",
       "\n",
       "    .dataframe tbody tr th {\n",
       "        vertical-align: top;\n",
       "    }\n",
       "\n",
       "    .dataframe thead th {\n",
       "        text-align: right;\n",
       "    }\n",
       "</style>\n",
       "<table border=\"1\" class=\"dataframe\">\n",
       "  <thead>\n",
       "    <tr style=\"text-align: right;\">\n",
       "      <th></th>\n",
       "      <th>dteday</th>\n",
       "      <th>season</th>\n",
       "      <th>yr</th>\n",
       "      <th>mnth</th>\n",
       "      <th>holiday</th>\n",
       "      <th>weekday</th>\n",
       "      <th>workingday</th>\n",
       "      <th>weathersit</th>\n",
       "      <th>temp</th>\n",
       "      <th>atemp</th>\n",
       "      <th>hum</th>\n",
       "      <th>windspeed</th>\n",
       "      <th>cnt</th>\n",
       "    </tr>\n",
       "  </thead>\n",
       "  <tbody>\n",
       "    <tr>\n",
       "      <th>0</th>\n",
       "      <td>2018-01-01</td>\n",
       "      <td>invierno</td>\n",
       "      <td>0</td>\n",
       "      <td>1</td>\n",
       "      <td>festivo</td>\n",
       "      <td>1</td>\n",
       "      <td>laborable</td>\n",
       "      <td>2</td>\n",
       "      <td>14.110847</td>\n",
       "      <td>18.18125</td>\n",
       "      <td>80.5833</td>\n",
       "      <td>10.749882</td>\n",
       "      <td>985</td>\n",
       "    </tr>\n",
       "    <tr>\n",
       "      <th>1</th>\n",
       "      <td>2018-01-02</td>\n",
       "      <td>invierno</td>\n",
       "      <td>0</td>\n",
       "      <td>1</td>\n",
       "      <td>no festivo</td>\n",
       "      <td>2</td>\n",
       "      <td>laborable</td>\n",
       "      <td>2</td>\n",
       "      <td>14.902598</td>\n",
       "      <td>17.68695</td>\n",
       "      <td>69.6087</td>\n",
       "      <td>16.652113</td>\n",
       "      <td>801</td>\n",
       "    </tr>\n",
       "    <tr>\n",
       "      <th>2</th>\n",
       "      <td>2018-01-03</td>\n",
       "      <td>invierno</td>\n",
       "      <td>0</td>\n",
       "      <td>1</td>\n",
       "      <td>no festivo</td>\n",
       "      <td>3</td>\n",
       "      <td>laborable</td>\n",
       "      <td>1</td>\n",
       "      <td>8.050924</td>\n",
       "      <td>9.47025</td>\n",
       "      <td>43.7273</td>\n",
       "      <td>16.636703</td>\n",
       "      <td>1349</td>\n",
       "    </tr>\n",
       "    <tr>\n",
       "      <th>3</th>\n",
       "      <td>2018-01-04</td>\n",
       "      <td>invierno</td>\n",
       "      <td>0</td>\n",
       "      <td>1</td>\n",
       "      <td>no festivo</td>\n",
       "      <td>4</td>\n",
       "      <td>laborable</td>\n",
       "      <td>1</td>\n",
       "      <td>8.200000</td>\n",
       "      <td>10.60610</td>\n",
       "      <td>59.0435</td>\n",
       "      <td>10.739832</td>\n",
       "      <td>1562</td>\n",
       "    </tr>\n",
       "    <tr>\n",
       "      <th>4</th>\n",
       "      <td>2018-01-05</td>\n",
       "      <td>invierno</td>\n",
       "      <td>0</td>\n",
       "      <td>1</td>\n",
       "      <td>no festivo</td>\n",
       "      <td>5</td>\n",
       "      <td>laborable</td>\n",
       "      <td>1</td>\n",
       "      <td>9.305237</td>\n",
       "      <td>11.46350</td>\n",
       "      <td>43.6957</td>\n",
       "      <td>12.522300</td>\n",
       "      <td>1600</td>\n",
       "    </tr>\n",
       "  </tbody>\n",
       "</table>\n",
       "</div>"
      ],
      "text/plain": [
       "      dteday    season  yr  mnth     holiday weekday workingday weathersit  \\\n",
       "0 2018-01-01  invierno   0     1     festivo       1  laborable          2   \n",
       "1 2018-01-02  invierno   0     1  no festivo       2  laborable          2   \n",
       "2 2018-01-03  invierno   0     1  no festivo       3  laborable          1   \n",
       "3 2018-01-04  invierno   0     1  no festivo       4  laborable          1   \n",
       "4 2018-01-05  invierno   0     1  no festivo       5  laborable          1   \n",
       "\n",
       "        temp     atemp      hum  windspeed   cnt  \n",
       "0  14.110847  18.18125  80.5833  10.749882   985  \n",
       "1  14.902598  17.68695  69.6087  16.652113   801  \n",
       "2   8.050924   9.47025  43.7273  16.636703  1349  \n",
       "3   8.200000  10.60610  59.0435  10.739832  1562  \n",
       "4   9.305237  11.46350  43.6957  12.522300  1600  "
      ]
     },
     "execution_count": 14,
     "metadata": {},
     "output_type": "execute_result"
    }
   ],
   "source": [
    "df_r.head()"
   ]
  },
  {
   "cell_type": "code",
   "execution_count": 15,
   "metadata": {},
   "outputs": [
    {
     "name": "stdout",
     "output_type": "stream",
     "text": [
      "[('dteday', 'season'), ('dteday', 'yr'), ('dteday', 'mnth'), ('dteday', 'holiday'), ('dteday', 'weekday'), ('dteday', 'workingday'), ('dteday', 'weathersit'), ('dteday', 'temp'), ('dteday', 'atemp'), ('dteday', 'hum'), ('dteday', 'windspeed'), ('season', 'yr'), ('season', 'mnth'), ('season', 'holiday'), ('season', 'weekday'), ('season', 'workingday'), ('season', 'weathersit'), ('season', 'temp'), ('season', 'atemp'), ('season', 'hum'), ('season', 'windspeed'), ('yr', 'mnth'), ('yr', 'holiday'), ('yr', 'weekday'), ('yr', 'workingday'), ('yr', 'weathersit'), ('yr', 'temp'), ('yr', 'atemp'), ('yr', 'hum'), ('yr', 'windspeed'), ('mnth', 'holiday'), ('mnth', 'weekday'), ('mnth', 'workingday'), ('mnth', 'weathersit'), ('mnth', 'temp'), ('mnth', 'atemp'), ('mnth', 'hum'), ('mnth', 'windspeed'), ('holiday', 'weekday'), ('holiday', 'workingday'), ('holiday', 'weathersit'), ('holiday', 'temp'), ('holiday', 'atemp'), ('holiday', 'hum'), ('holiday', 'windspeed'), ('weekday', 'workingday'), ('weekday', 'weathersit'), ('weekday', 'temp'), ('weekday', 'atemp'), ('weekday', 'hum'), ('weekday', 'windspeed'), ('workingday', 'weathersit'), ('workingday', 'temp'), ('workingday', 'atemp'), ('workingday', 'hum'), ('workingday', 'windspeed'), ('weathersit', 'temp'), ('weathersit', 'atemp'), ('weathersit', 'hum'), ('weathersit', 'windspeed'), ('temp', 'atemp'), ('temp', 'hum'), ('temp', 'windspeed'), ('atemp', 'hum'), ('atemp', 'windspeed'), ('hum', 'windspeed')]\n",
      "INDEPENDENCIA ENTRE ('dteday', 'season') \n",
      "                    Chi-square test    results\n",
      "0  Pearson Chi-square ( 2187.0) =   2190.0000\n",
      "1                       p-value =      0.4779\n",
      "2                    Cramer's V =      1.0000\n",
      "........................\n",
      "INDEPENDENCIA ENTRE ('dteday', 'yr') \n",
      "                   Chi-square test   results\n",
      "0  Pearson Chi-square ( 729.0) =   730.0000\n",
      "1                      p-value =     0.4826\n",
      "2                   Cramer's V =     1.0000\n",
      "........................\n",
      "INDEPENDENCIA ENTRE ('dteday', 'mnth') \n",
      "                    Chi-square test    results\n",
      "0  Pearson Chi-square ( 8019.0) =   8030.0000\n",
      "1                       p-value =      0.4633\n",
      "2                    Cramer's V =      1.0000\n",
      "........................\n",
      "INDEPENDENCIA ENTRE ('dteday', 'holiday') \n",
      "                   Chi-square test   results\n",
      "0  Pearson Chi-square ( 729.0) =   730.0000\n",
      "1                      p-value =     0.4826\n",
      "2                   Cramer's V =     1.0000\n",
      "........................\n",
      "INDEPENDENCIA ENTRE ('dteday', 'weekday') \n",
      "                    Chi-square test    results\n",
      "0  Pearson Chi-square ( 4374.0) =   4380.0000\n",
      "1                       p-value =      0.4716\n",
      "2                    Cramer's V =      1.0000\n",
      "........................\n",
      "INDEPENDENCIA ENTRE ('dteday', 'workingday') \n",
      "                   Chi-square test   results\n",
      "0  Pearson Chi-square ( 729.0) =   730.0000\n",
      "1                      p-value =     0.4826\n",
      "2                   Cramer's V =     1.0000\n",
      "........................\n",
      "INDEPENDENCIA ENTRE ('dteday', 'weathersit') \n",
      "                    Chi-square test    results\n",
      "0  Pearson Chi-square ( 1458.0) =   1460.0000\n",
      "1                       p-value =      0.4803\n",
      "2                    Cramer's V =      1.0000\n",
      "........................\n",
      "INDEPENDENCIA ENTRE ('dteday', 'temp') \n",
      "                      Chi-square test      results\n",
      "0  Pearson Chi-square ( 362313.0) =   362810.0000\n",
      "1                         p-value =        0.2795\n",
      "2                      Cramer's V =        1.0000\n",
      "........................\n",
      "INDEPENDENCIA ENTRE ('dteday', 'atemp') \n",
      "                      Chi-square test     results\n",
      "0  Pearson Chi-square ( 501552.0) =   502240.000\n",
      "1                         p-value =        0.246\n",
      "2                      Cramer's V =        1.000\n",
      "........................\n",
      "INDEPENDENCIA ENTRE ('dteday', 'hum') \n",
      "                      Chi-square test      results\n",
      "0  Pearson Chi-square ( 432297.0) =   432890.0000\n",
      "1                         p-value =        0.2617\n",
      "2                      Cramer's V =        1.0000\n",
      "........................\n",
      "INDEPENDENCIA ENTRE ('dteday', 'windspeed') \n",
      "                      Chi-square test      results\n",
      "0  Pearson Chi-square ( 472392.0) =   473040.0000\n",
      "1                         p-value =        0.2524\n",
      "2                      Cramer's V =        1.0000\n",
      "........................\n",
      "INDEPENDENCIA ENTRE ('season', 'yr') \n",
      "                 Chi-square test  results\n",
      "0  Pearson Chi-square ( 3.0) =       0.0\n",
      "1                    p-value =       1.0\n",
      "2                 Cramer's V =       0.0\n",
      "........................\n",
      "INDEPENDENCIA ENTRE ('season', 'mnth') \n",
      "                  Chi-square test   results\n",
      "0  Pearson Chi-square ( 33.0) =   1762.002\n",
      "1                     p-value =      0.000\n",
      "2                  Cramer's V =      0.897\n",
      "........................\n",
      "INDEPENDENCIA ENTRE ('season', 'holiday') \n",
      "                 Chi-square test  results\n",
      "0  Pearson Chi-square ( 3.0) =    4.7808\n",
      "1                    p-value =    0.1886\n",
      "2                 Cramer's V =    0.0809\n",
      "........................\n",
      "INDEPENDENCIA ENTRE ('season', 'weekday') \n",
      "                  Chi-square test  results\n",
      "0  Pearson Chi-square ( 18.0) =    0.6563\n",
      "1                     p-value =    1.0000\n",
      "2                  Cramer's V =    0.0173\n",
      "........................\n",
      "INDEPENDENCIA ENTRE ('season', 'workingday') \n",
      "                 Chi-square test  results\n",
      "0  Pearson Chi-square ( 3.0) =    0.1537\n",
      "1                    p-value =    0.9847\n",
      "2                 Cramer's V =    0.0145\n",
      "........................\n",
      "INDEPENDENCIA ENTRE ('season', 'weathersit') \n",
      "                 Chi-square test  results\n",
      "0  Pearson Chi-square ( 6.0) =   14.7374\n",
      "1                    p-value =    0.0224\n",
      "2                 Cramer's V =    0.1005\n",
      "........................\n",
      "INDEPENDENCIA ENTRE ('season', 'temp') \n",
      "                    Chi-square test    results\n",
      "0  Pearson Chi-square ( 1491.0) =   1730.4488\n",
      "1                       p-value =      0.0000\n",
      "2                    Cramer's V =      0.8889\n",
      "........................\n",
      "INDEPENDENCIA ENTRE ('season', 'atemp') \n",
      "                    Chi-square test    results\n",
      "0  Pearson Chi-square ( 2064.0) =   2098.3948\n",
      "1                       p-value =      0.2937\n",
      "2                    Cramer's V =      0.9789\n",
      "........................\n",
      "INDEPENDENCIA ENTRE ('season', 'hum') \n",
      "                    Chi-square test    results\n",
      "0  Pearson Chi-square ( 1779.0) =   1755.0044\n",
      "1                       p-value =      0.6528\n",
      "2                    Cramer's V =      0.8952\n",
      "........................\n",
      "INDEPENDENCIA ENTRE ('season', 'windspeed') \n",
      "                    Chi-square test    results\n",
      "0  Pearson Chi-square ( 1944.0) =   1964.1876\n",
      "1                       p-value =      0.3694\n",
      "2                    Cramer's V =      0.9470\n",
      "........................\n",
      "INDEPENDENCIA ENTRE ('yr', 'mnth') \n",
      "                  Chi-square test  results\n",
      "0  Pearson Chi-square ( 11.0) =       0.0\n",
      "1                     p-value =       1.0\n",
      "2                  Cramer's V =       0.0\n",
      "........................\n",
      "INDEPENDENCIA ENTRE ('yr', 'holiday') \n",
      "                 Chi-square test  results\n",
      "0  Pearson Chi-square ( 1.0) =    0.0490\n",
      "1                    p-value =    0.8248\n",
      "2               Cramer's phi =    0.0082\n",
      "........................\n",
      "INDEPENDENCIA ENTRE ('yr', 'weekday') \n",
      "                 Chi-square test  results\n",
      "0  Pearson Chi-square ( 6.0) =    0.0190\n",
      "1                    p-value =    1.0000\n",
      "2                 Cramer's V =    0.0051\n",
      "........................\n",
      "INDEPENDENCIA ENTRE ('yr', 'workingday') \n",
      "                 Chi-square test  results\n",
      "0  Pearson Chi-square ( 1.0) =       0.0\n",
      "1                    p-value =       1.0\n",
      "2               Cramer's phi =       0.0\n",
      "........................\n",
      "INDEPENDENCIA ENTRE ('yr', 'weathersit') \n",
      "                 Chi-square test  results\n",
      "0  Pearson Chi-square ( 2.0) =    4.1347\n",
      "1                    p-value =    0.1265\n",
      "2                 Cramer's V =    0.0753\n",
      "........................\n",
      "INDEPENDENCIA ENTRE ('yr', 'temp') \n",
      "                   Chi-square test   results\n",
      "0  Pearson Chi-square ( 497.0) =   518.0000\n",
      "1                      p-value =     0.2489\n",
      "2                   Cramer's V =     0.8424\n",
      "........................\n",
      "INDEPENDENCIA ENTRE ('yr', 'atemp') \n",
      "                   Chi-square test   results\n",
      "0  Pearson Chi-square ( 688.0) =   687.3333\n",
      "1                      p-value =     0.5000\n",
      "2                   Cramer's V =     0.9703\n",
      "........................\n",
      "INDEPENDENCIA ENTRE ('yr', 'hum') \n",
      "                   Chi-square test   results\n",
      "0  Pearson Chi-square ( 593.0) =   609.6667\n",
      "1                      p-value =     0.3090\n",
      "2                   Cramer's V =     0.9139\n",
      "........................\n",
      "INDEPENDENCIA ENTRE ('yr', 'windspeed') \n",
      "                   Chi-square test   results\n",
      "0  Pearson Chi-square ( 648.0) =   642.6667\n",
      "1                      p-value =     0.5517\n",
      "2                   Cramer's V =     0.9383\n",
      "........................\n",
      "INDEPENDENCIA ENTRE ('mnth', 'holiday') \n",
      "                  Chi-square test  results\n",
      "0  Pearson Chi-square ( 11.0) =   16.7068\n",
      "1                     p-value =    0.1169\n",
      "2                  Cramer's V =    0.1513\n",
      "........................\n",
      "INDEPENDENCIA ENTRE ('mnth', 'weekday') \n",
      "                  Chi-square test  results\n",
      "0  Pearson Chi-square ( 66.0) =    5.5581\n",
      "1                     p-value =    1.0000\n",
      "2                  Cramer's V =    0.0356\n",
      "........................\n",
      "INDEPENDENCIA ENTRE ('mnth', 'workingday') \n",
      "                  Chi-square test  results\n",
      "0  Pearson Chi-square ( 11.0) =    1.6058\n",
      "1                     p-value =    0.9995\n",
      "2                  Cramer's V =    0.0469\n",
      "........................\n",
      "INDEPENDENCIA ENTRE ('mnth', 'weathersit') \n",
      "                  Chi-square test  results\n",
      "0  Pearson Chi-square ( 22.0) =   38.9302\n",
      "1                     p-value =    0.0144\n",
      "2                  Cramer's V =    0.1633\n",
      "........................\n",
      "INDEPENDENCIA ENTRE ('mnth', 'temp') \n",
      "                    Chi-square test    results\n",
      "0  Pearson Chi-square ( 5467.0) =   5859.5040\n",
      "1                       p-value =      0.0001\n",
      "2                    Cramer's V =      0.8542\n",
      "........................\n",
      "INDEPENDENCIA ENTRE ('mnth', 'atemp') \n",
      "                    Chi-square test    results\n",
      "0  Pearson Chi-square ( 7568.0) =   7616.7632\n",
      "1                       p-value =      0.3442\n",
      "2                    Cramer's V =      0.9739\n",
      "........................\n",
      "INDEPENDENCIA ENTRE ('mnth', 'hum') \n",
      "                    Chi-square test    results\n",
      "0  Pearson Chi-square ( 6523.0) =   6528.1876\n",
      "1                       p-value =      0.4796\n",
      "2                    Cramer's V =      0.9017\n",
      "........................\n",
      "INDEPENDENCIA ENTRE ('mnth', 'windspeed') \n",
      "                    Chi-square test    results\n",
      "0  Pearson Chi-square ( 7128.0) =   7160.4852\n",
      "1                       p-value =      0.3908\n",
      "2                    Cramer's V =      0.9443\n",
      "........................\n",
      "INDEPENDENCIA ENTRE ('holiday', 'weekday') \n",
      "                 Chi-square test  results\n",
      "0  Pearson Chi-square ( 6.0) =   42.1669\n",
      "1                    p-value =    0.0000\n",
      "2                 Cramer's V =    0.2403\n",
      "........................\n",
      "INDEPENDENCIA ENTRE ('holiday', 'workingday') \n",
      "                 Chi-square test  results\n",
      "0  Pearson Chi-square ( 1.0) =    5.9765\n",
      "1                    p-value =    0.0145\n",
      "2               Cramer's phi =    0.0905\n",
      "........................\n",
      "INDEPENDENCIA ENTRE ('holiday', 'weathersit') \n",
      "                 Chi-square test  results\n",
      "0  Pearson Chi-square ( 2.0) =    0.4716\n",
      "1                    p-value =    0.7899\n",
      "2                 Cramer's V =    0.0254\n",
      "........................\n",
      "INDEPENDENCIA ENTRE ('holiday', 'temp') \n",
      "                   Chi-square test   results\n",
      "0  Pearson Chi-square ( 497.0) =   548.0598\n",
      "1                      p-value =     0.0561\n",
      "2                   Cramer's V =     0.8665\n",
      "........................\n",
      "INDEPENDENCIA ENTRE ('holiday', 'atemp') \n",
      "                   Chi-square test   results\n",
      "0  Pearson Chi-square ( 688.0) =   706.1390\n",
      "1                      p-value =     0.3076\n",
      "2                   Cramer's V =     0.9835\n",
      "........................\n",
      "INDEPENDENCIA ENTRE ('holiday', 'hum') \n",
      "                   Chi-square test   results\n",
      "0  Pearson Chi-square ( 593.0) =   574.9034\n",
      "1                      p-value =     0.6955\n",
      "2                   Cramer's V =     0.8874\n",
      "........................\n",
      "INDEPENDENCIA ENTRE ('holiday', 'windspeed') \n",
      "                   Chi-square test   results\n",
      "0  Pearson Chi-square ( 648.0) =   670.3475\n",
      "1                      p-value =     0.2636\n",
      "2                   Cramer's V =     0.9583\n",
      "........................\n",
      "INDEPENDENCIA ENTRE ('weekday', 'workingday') \n",
      "                 Chi-square test  results\n",
      "0  Pearson Chi-square ( 6.0) =     730.0\n",
      "1                    p-value =       0.0\n",
      "2                 Cramer's V =       1.0\n",
      "........................\n",
      "INDEPENDENCIA ENTRE ('weekday', 'weathersit') \n",
      "                  Chi-square test  results\n",
      "0  Pearson Chi-square ( 12.0) =    9.9080\n",
      "1                     p-value =    0.6240\n",
      "2                  Cramer's V =    0.0824\n",
      "........................\n",
      "INDEPENDENCIA ENTRE ('weekday', 'temp') \n",
      "                    Chi-square test    results\n",
      "0  Pearson Chi-square ( 2982.0) =   2995.8957\n",
      "1                       p-value =      0.4253\n",
      "2                    Cramer's V =      0.8270\n",
      "........................\n",
      "INDEPENDENCIA ENTRE ('weekday', 'atemp') \n",
      "                    Chi-square test    results\n",
      "0  Pearson Chi-square ( 4128.0) =   4157.2174\n",
      "1                       p-value =      0.3714\n",
      "2                    Cramer's V =      0.9742\n",
      "........................\n",
      "INDEPENDENCIA ENTRE ('weekday', 'hum') \n",
      "                    Chi-square test    results\n",
      "0  Pearson Chi-square ( 3558.0) =   3585.3562\n",
      "1                       p-value =      0.3702\n",
      "2                    Cramer's V =      0.9048\n",
      "........................\n",
      "INDEPENDENCIA ENTRE ('weekday', 'windspeed') \n",
      "                    Chi-square test    results\n",
      "0  Pearson Chi-square ( 3888.0) =   3920.1847\n",
      "1                       p-value =      0.3551\n",
      "2                    Cramer's V =      0.9461\n",
      "........................\n",
      "INDEPENDENCIA ENTRE ('workingday', 'weathersit') \n",
      "                 Chi-square test  results\n",
      "0  Pearson Chi-square ( 2.0) =    3.5432\n",
      "1                    p-value =    0.1701\n",
      "2                 Cramer's V =    0.0697\n",
      "........................\n",
      "INDEPENDENCIA ENTRE ('workingday', 'temp') \n",
      "                   Chi-square test   results\n",
      "0  Pearson Chi-square ( 497.0) =   503.6556\n",
      "1                      p-value =     0.4085\n",
      "2                   Cramer's V =     0.8306\n",
      "........................\n",
      "INDEPENDENCIA ENTRE ('workingday', 'atemp') \n",
      "                   Chi-square test   results\n",
      "0  Pearson Chi-square ( 688.0) =   685.4182\n",
      "1                      p-value =     0.5206\n",
      "2                   Cramer's V =     0.9690\n",
      "........................\n",
      "INDEPENDENCIA ENTRE ('workingday', 'hum') \n",
      "                   Chi-square test   results\n",
      "0  Pearson Chi-square ( 593.0) =   580.3035\n",
      "1                      p-value =     0.6376\n",
      "2                   Cramer's V =     0.8916\n",
      "........................\n",
      "INDEPENDENCIA ENTRE ('workingday', 'windspeed') \n",
      "                   Chi-square test   results\n",
      "0  Pearson Chi-square ( 648.0) =   661.2868\n",
      "1                      p-value =     0.3501\n",
      "2                   Cramer's V =     0.9518\n",
      "........................\n",
      "INDEPENDENCIA ENTRE ('weathersit', 'temp') \n",
      "                   Chi-square test    results\n",
      "0  Pearson Chi-square ( 994.0) =   1077.6982\n",
      "1                      p-value =      0.0328\n",
      "2                   Cramer's V =      0.8592\n",
      "........................\n",
      "INDEPENDENCIA ENTRE ('weathersit', 'atemp') \n",
      "                    Chi-square test    results\n",
      "0  Pearson Chi-square ( 1376.0) =   1388.8229\n",
      "1                       p-value =      0.3988\n",
      "2                    Cramer's V =      0.9753\n",
      "........................\n",
      "INDEPENDENCIA ENTRE ('weathersit', 'hum') \n",
      "                    Chi-square test    results\n",
      "0  Pearson Chi-square ( 1186.0) =   1300.7838\n",
      "1                       p-value =      0.0108\n",
      "2                    Cramer's V =      0.9439\n",
      "........................\n",
      "INDEPENDENCIA ENTRE ('weathersit', 'windspeed') \n",
      "                    Chi-square test    results\n",
      "0  Pearson Chi-square ( 1296.0) =   1338.0823\n",
      "1                       p-value =      0.2030\n",
      "2                    Cramer's V =      0.9573\n",
      "........................\n",
      "INDEPENDENCIA ENTRE ('temp', 'atemp') \n",
      "                      Chi-square test      results\n",
      "0  Pearson Chi-square ( 341936.0) =   344730.3333\n",
      "1                         p-value =        0.0004\n",
      "2                      Cramer's V =        0.9748\n",
      "........................\n",
      "INDEPENDENCIA ENTRE ('temp', 'hum') \n",
      "                      Chi-square test      results\n",
      "0  Pearson Chi-square ( 294721.0) =   298334.7778\n",
      "1                         p-value =        0.0000\n",
      "2                      Cramer's V =        0.9068\n",
      "........................\n",
      "INDEPENDENCIA ENTRE ('temp', 'windspeed') \n",
      "                      Chi-square test      results\n",
      "0  Pearson Chi-square ( 322056.0) =   325496.8611\n",
      "1                         p-value =        0.0000\n",
      "2                      Cramer's V =        0.9472\n",
      "........................\n",
      "INDEPENDENCIA ENTRE ('atemp', 'hum') \n",
      "                      Chi-square test      results\n",
      "0  Pearson Chi-square ( 407984.0) =   408678.3333\n",
      "1                         p-value =        0.2210\n",
      "2                      Cramer's V =        0.9716\n",
      "........................\n",
      "INDEPENDENCIA ENTRE ('atemp', 'windspeed') \n",
      "                      Chi-square test      results\n",
      "0  Pearson Chi-square ( 445824.0) =   445817.0833\n",
      "1                         p-value =        0.5026\n",
      "2                      Cramer's V =        0.9708\n",
      "........................\n",
      "INDEPENDENCIA ENTRE ('hum', 'windspeed') \n",
      "                      Chi-square test      results\n",
      "0  Pearson Chi-square ( 384264.0) =   386889.8611\n",
      "1                         p-value =        0.0014\n",
      "2                      Cramer's V =        0.9454\n",
      "........................\n"
     ]
    }
   ],
   "source": [
    "from itertools import combinations\n",
    "# size of combination is set to 3\n",
    "combinaciones = list(combinations(predictoras, 2))\n",
    "print(combinaciones)\n",
    "for i in combinaciones:\n",
    "    crosstab, test_results, expected = rp.crosstab(df_r[i[0]], df_r[i[1]],\n",
    "                                               test= \"chi-square\",\n",
    "                                               expected_freqs= True,\n",
    "                                               prop= \"cell\")\n",
    "    print(f\"INDEPENDENCIA ENTRE {i[0], i[1]} \\n\", test_results)\n",
    "    print(\"........................\")"
   ]
  },
  {
   "cell_type": "code",
   "execution_count": 16,
   "metadata": {},
   "outputs": [
    {
     "data": {
      "text/plain": [
       "instant                int64\n",
       "dteday        datetime64[ns]\n",
       "season              category\n",
       "yr                     int64\n",
       "mnth                   int64\n",
       "holiday             category\n",
       "weekday             category\n",
       "workingday          category\n",
       "weathersit          category\n",
       "temp                 float64\n",
       "atemp                float64\n",
       "hum                  float64\n",
       "windspeed            float64\n",
       "casual                 int64\n",
       "registered             int64\n",
       "cnt                    int64\n",
       "dtype: object"
      ]
     },
     "execution_count": 16,
     "metadata": {},
     "output_type": "execute_result"
    }
   ],
   "source": [
    "df.dtypes"
   ]
  },
  {
   "attachments": {},
   "cell_type": "markdown",
   "metadata": {},
   "source": [
    "---"
   ]
  },
  {
   "attachments": {},
   "cell_type": "markdown",
   "metadata": {},
   "source": [
    "ASUNCIÓN DE HOMOCEDASTICIDAD"
   ]
  },
  {
   "cell_type": "code",
   "execution_count": 17,
   "metadata": {},
   "outputs": [
    {
     "data": {
      "image/png": "[encoded data removed]",
      "text/plain": [
       "<Figure size 1500x1500 with 5 Axes>"
      ]
     },
     "metadata": {},
     "output_type": "display_data"
    }
   ],
   "source": [
    "fig, axes = plt.subplots(nrows = 2, ncols = 3, figsize = (15, 15))\n",
    "\n",
    "axes = axes.flat\n",
    "\n",
    "columnas_cat = df_r.select_dtypes(include = [\"category\"]).columns\n",
    "\n",
    "for i, colum in enumerate(columnas_cat):\n",
    "    sns.boxplot(\n",
    "    x       = colum,\n",
    "    y       = 'cnt',\n",
    "    data    = df_r,\n",
    "    palette = 'tab10',\n",
    "    ax      = axes[i]\n",
    "    );\n",
    "\n",
    "fig.delaxes(axes[-1])\n"
   ]
  },
  {
   "cell_type": "code",
   "execution_count": 18,
   "metadata": {},
   "outputs": [
    {
     "data": {
      "text/html": [
       "<div>\n",
       "<style scoped>\n",
       "    .dataframe tbody tr th:only-of-type {\n",
       "        vertical-align: middle;\n",
       "    }\n",
       "\n",
       "    .dataframe tbody tr th {\n",
       "        vertical-align: top;\n",
       "    }\n",
       "\n",
       "    .dataframe thead th {\n",
       "        text-align: right;\n",
       "    }\n",
       "</style>\n",
       "<table border=\"1\" class=\"dataframe\">\n",
       "  <thead>\n",
       "    <tr style=\"text-align: right;\">\n",
       "      <th></th>\n",
       "      <th>count</th>\n",
       "      <th>unique</th>\n",
       "      <th>top</th>\n",
       "      <th>freq</th>\n",
       "    </tr>\n",
       "  </thead>\n",
       "  <tbody>\n",
       "    <tr>\n",
       "      <th>season</th>\n",
       "      <td>730</td>\n",
       "      <td>4</td>\n",
       "      <td>verano</td>\n",
       "      <td>188</td>\n",
       "    </tr>\n",
       "    <tr>\n",
       "      <th>holiday</th>\n",
       "      <td>730</td>\n",
       "      <td>2</td>\n",
       "      <td>no festivo</td>\n",
       "      <td>709</td>\n",
       "    </tr>\n",
       "    <tr>\n",
       "      <th>weekday</th>\n",
       "      <td>730</td>\n",
       "      <td>7</td>\n",
       "      <td>1</td>\n",
       "      <td>105</td>\n",
       "    </tr>\n",
       "    <tr>\n",
       "      <th>workingday</th>\n",
       "      <td>730</td>\n",
       "      <td>2</td>\n",
       "      <td>laborable</td>\n",
       "      <td>522</td>\n",
       "    </tr>\n",
       "    <tr>\n",
       "      <th>weathersit</th>\n",
       "      <td>730</td>\n",
       "      <td>3</td>\n",
       "      <td>1</td>\n",
       "      <td>463</td>\n",
       "    </tr>\n",
       "  </tbody>\n",
       "</table>\n",
       "</div>"
      ],
      "text/plain": [
       "           count unique         top freq\n",
       "season       730      4      verano  188\n",
       "holiday      730      2  no festivo  709\n",
       "weekday      730      7           1  105\n",
       "workingday   730      2   laborable  522\n",
       "weathersit   730      3           1  463"
      ]
     },
     "execution_count": 18,
     "metadata": {},
     "output_type": "execute_result"
    }
   ],
   "source": [
    "df_r.describe(include=\"category\").T"
   ]
  },
  {
   "cell_type": "code",
   "execution_count": 19,
   "metadata": {},
   "outputs": [],
   "source": [
    "def datos_test_levene(columna, df):\n",
    "    valores = df[columna].unique()\n",
    "    d = {}\n",
    "    for x in valores:\n",
    "        d[\"{0}\".format(x)] = df[df[columna] == x][\"cnt\"]\n",
    "    return d\n",
    "season = datos_test_levene(\"season\", df_r)\n",
    "holiday = datos_test_levene(\"holiday\", df_r)\n",
    "workingday = datos_test_levene(\"workingday\", df_r)\n"
   ]
  },
  {
   "cell_type": "code",
   "execution_count": 20,
   "metadata": {},
   "outputs": [
    {
     "data": {
      "text/plain": [
       "LeveneResult(statistic=3.155040941439281, pvalue=0.024303690914594712)"
      ]
     },
     "execution_count": 20,
     "metadata": {},
     "output_type": "execute_result"
    }
   ],
   "source": [
    "levene_season = stats.levene(season['invierno'], season['primavera'],season['verano'],season['otoño'], center='median')\n",
    "levene_season"
   ]
  },
  {
   "cell_type": "code",
   "execution_count": 21,
   "metadata": {},
   "outputs": [
    {
     "data": {
      "text/plain": [
       "LeveneResult(statistic=2.406555395947651, pvalue=0.12126257152052083)"
      ]
     },
     "execution_count": 21,
     "metadata": {},
     "output_type": "execute_result"
    }
   ],
   "source": [
    "levene_holiday = stats.levene(holiday['festivo'], holiday['no festivo'], center='median')\n",
    "levene_holiday"
   ]
  },
  {
   "cell_type": "code",
   "execution_count": 22,
   "metadata": {},
   "outputs": [
    {
     "data": {
      "text/plain": [
       "LeveneResult(statistic=0.07598943479483483, pvalue=0.7828860552362181)"
      ]
     },
     "execution_count": 22,
     "metadata": {},
     "output_type": "execute_result"
    }
   ],
   "source": [
    "levene_workingday = stats.levene(workingday['laborable'], workingday['finde'], center='median')\n",
    "levene_workingday"
   ]
  },
  {
   "attachments": {},
   "cell_type": "markdown",
   "metadata": {},
   "source": [
    "---"
   ]
  },
  {
   "attachments": {},
   "cell_type": "markdown",
   "metadata": {},
   "source": [
    "`Consultamos y definimos eliminarla del analisis.`"
   ]
  },
  {
   "cell_type": "code",
   "execution_count": 23,
   "metadata": {},
   "outputs": [
    {
     "data": {
      "text/html": [
       "<div>\n",
       "<style scoped>\n",
       "    .dataframe tbody tr th:only-of-type {\n",
       "        vertical-align: middle;\n",
       "    }\n",
       "\n",
       "    .dataframe tbody tr th {\n",
       "        vertical-align: top;\n",
       "    }\n",
       "\n",
       "    .dataframe thead th {\n",
       "        text-align: right;\n",
       "    }\n",
       "</style>\n",
       "<table border=\"1\" class=\"dataframe\">\n",
       "  <thead>\n",
       "    <tr style=\"text-align: right;\">\n",
       "      <th></th>\n",
       "      <th>temp</th>\n",
       "      <th>atemp</th>\n",
       "      <th>hum</th>\n",
       "      <th>windspeed</th>\n",
       "    </tr>\n",
       "  </thead>\n",
       "  <tbody>\n",
       "    <tr>\n",
       "      <th>0</th>\n",
       "      <td>14.110847</td>\n",
       "      <td>18.18125</td>\n",
       "      <td>80.5833</td>\n",
       "      <td>10.749882</td>\n",
       "    </tr>\n",
       "    <tr>\n",
       "      <th>1</th>\n",
       "      <td>14.902598</td>\n",
       "      <td>17.68695</td>\n",
       "      <td>69.6087</td>\n",
       "      <td>16.652113</td>\n",
       "    </tr>\n",
       "    <tr>\n",
       "      <th>2</th>\n",
       "      <td>8.050924</td>\n",
       "      <td>9.47025</td>\n",
       "      <td>43.7273</td>\n",
       "      <td>16.636703</td>\n",
       "    </tr>\n",
       "    <tr>\n",
       "      <th>3</th>\n",
       "      <td>8.200000</td>\n",
       "      <td>10.60610</td>\n",
       "      <td>59.0435</td>\n",
       "      <td>10.739832</td>\n",
       "    </tr>\n",
       "    <tr>\n",
       "      <th>4</th>\n",
       "      <td>9.305237</td>\n",
       "      <td>11.46350</td>\n",
       "      <td>43.6957</td>\n",
       "      <td>12.522300</td>\n",
       "    </tr>\n",
       "    <tr>\n",
       "      <th>...</th>\n",
       "      <td>...</td>\n",
       "      <td>...</td>\n",
       "      <td>...</td>\n",
       "      <td>...</td>\n",
       "    </tr>\n",
       "    <tr>\n",
       "      <th>725</th>\n",
       "      <td>10.420847</td>\n",
       "      <td>11.33210</td>\n",
       "      <td>65.2917</td>\n",
       "      <td>23.458911</td>\n",
       "    </tr>\n",
       "    <tr>\n",
       "      <th>726</th>\n",
       "      <td>10.386653</td>\n",
       "      <td>12.75230</td>\n",
       "      <td>59.0000</td>\n",
       "      <td>10.416557</td>\n",
       "    </tr>\n",
       "    <tr>\n",
       "      <th>727</th>\n",
       "      <td>10.386653</td>\n",
       "      <td>12.12000</td>\n",
       "      <td>75.2917</td>\n",
       "      <td>8.333661</td>\n",
       "    </tr>\n",
       "    <tr>\n",
       "      <th>728</th>\n",
       "      <td>10.489153</td>\n",
       "      <td>11.58500</td>\n",
       "      <td>48.3333</td>\n",
       "      <td>23.500518</td>\n",
       "    </tr>\n",
       "    <tr>\n",
       "      <th>729</th>\n",
       "      <td>8.849153</td>\n",
       "      <td>11.17435</td>\n",
       "      <td>57.7500</td>\n",
       "      <td>10.374682</td>\n",
       "    </tr>\n",
       "  </tbody>\n",
       "</table>\n",
       "<p>730 rows × 4 columns</p>\n",
       "</div>"
      ],
      "text/plain": [
       "          temp     atemp      hum  windspeed\n",
       "0    14.110847  18.18125  80.5833  10.749882\n",
       "1    14.902598  17.68695  69.6087  16.652113\n",
       "2     8.050924   9.47025  43.7273  16.636703\n",
       "3     8.200000  10.60610  59.0435  10.739832\n",
       "4     9.305237  11.46350  43.6957  12.522300\n",
       "..         ...       ...      ...        ...\n",
       "725  10.420847  11.33210  65.2917  23.458911\n",
       "726  10.386653  12.75230  59.0000  10.416557\n",
       "727  10.386653  12.12000  75.2917   8.333661\n",
       "728  10.489153  11.58500  48.3333  23.500518\n",
       "729   8.849153  11.17435  57.7500  10.374682\n",
       "\n",
       "[730 rows x 4 columns]"
      ]
     },
     "execution_count": 23,
     "metadata": {},
     "output_type": "execute_result"
    }
   ],
   "source": [
    "df_r_continuas"
   ]
  },
  {
   "cell_type": "code",
   "execution_count": 24,
   "metadata": {},
   "outputs": [],
   "source": [
    "numericas= df.select_dtypes(np.number)"
   ]
  },
  {
   "cell_type": "code",
   "execution_count": 25,
   "metadata": {},
   "outputs": [],
   "source": [
    "# creamos un diccionario para almacenar los resultados de los test\n",
    "resultados = {}\n",
    "\n",
    "# seleccionamos solo las columnas numéricas y eliminamos la columna de precio\n",
    "numericas_col = df_r.select_dtypes(include = np.number).drop(\"cnt\", axis = 1).columns\n",
    "\n",
    "#iteremos por la lista de las columnas numéricas\n",
    "for col in numericas_col:\n",
    "    # calculamos el p-valor de test\n",
    "    statistic, p_val = levene(df_r[col], df_r.cnt, center='median')\n",
    "    # lo almacenamos en el charges\n",
    "    resultados[col] = p_val\n"
   ]
  },
  {
   "cell_type": "code",
   "execution_count": 26,
   "metadata": {},
   "outputs": [
    {
     "data": {
      "text/plain": [
       "{'yr': 1.5274213964794415e-221,\n",
       " 'mnth': 4.823769876689766e-221,\n",
       " 'temp': 2.4833393575116467e-220,\n",
       " 'atemp': 3.113811502846707e-220,\n",
       " 'hum': 2.6596694420929708e-219,\n",
       " 'windspeed': 7.971838325935599e-221}"
      ]
     },
     "execution_count": 26,
     "metadata": {},
     "output_type": "execute_result"
    }
   ],
   "source": [
    "resultados"
   ]
  },
  {
   "attachments": {},
   "cell_type": "markdown",
   "metadata": {},
   "source": [
    "Todas las columnas nuemericas son heterocedasticas."
   ]
  },
  {
   "attachments": {},
   "cell_type": "markdown",
   "metadata": {},
   "source": [
    "---"
   ]
  },
  {
   "attachments": {},
   "cell_type": "markdown",
   "metadata": {},
   "source": [
    "---"
   ]
  },
  {
   "attachments": {},
   "cell_type": "markdown",
   "metadata": {},
   "source": [
    "NORMALIZAR VARIABLE RESPUESTA"
   ]
  },
  {
   "cell_type": "code",
   "execution_count": 27,
   "metadata": {},
   "outputs": [
    {
     "data": {
      "text/plain": [
       "Index(['dteday', 'season', 'yr', 'mnth', 'holiday', 'weekday', 'workingday',\n",
       "       'weathersit', 'temp', 'atemp', 'hum', 'windspeed', 'cnt'],\n",
       "      dtype='object')"
      ]
     },
     "execution_count": 27,
     "metadata": {},
     "output_type": "execute_result"
    }
   ],
   "source": [
    "df_r.columns"
   ]
  },
  {
   "cell_type": "code",
   "execution_count": 28,
   "metadata": {},
   "outputs": [],
   "source": [
    "df_r[\"cnt_box\"], lambda_ajustada = stats.boxcox(df_r[\"cnt\"])\n"
   ]
  },
  {
   "cell_type": "code",
   "execution_count": 29,
   "metadata": {},
   "outputs": [
    {
     "data": {
      "text/plain": [
       "0.8861455779958503"
      ]
     },
     "execution_count": 29,
     "metadata": {},
     "output_type": "execute_result"
    }
   ],
   "source": [
    "lambda_ajustada"
   ]
  },
  {
   "cell_type": "code",
   "execution_count": 30,
   "metadata": {},
   "outputs": [
    {
     "data": {
      "text/plain": [
       "ShapiroResult(statistic=0.9801721572875977, pvalue=2.1927547777522705e-08)"
      ]
     },
     "execution_count": 30,
     "metadata": {},
     "output_type": "execute_result"
    }
   ],
   "source": [
    "stats.shapiro(df_r[\"cnt_box\"])"
   ]
  },
  {
   "cell_type": "code",
   "execution_count": 31,
   "metadata": {},
   "outputs": [],
   "source": [
    "df_r[\"cnt_raiz\"] = df_r[\"cnt\"].apply(lambda x: math.sqrt(x))"
   ]
  },
  {
   "cell_type": "code",
   "execution_count": 32,
   "metadata": {},
   "outputs": [
    {
     "data": {
      "text/plain": [
       "ShapiroResult(statistic=0.9646837115287781, pvalue=2.8804235472496e-12)"
      ]
     },
     "execution_count": 32,
     "metadata": {},
     "output_type": "execute_result"
    }
   ],
   "source": [
    "stats.shapiro(df_r[\"cnt_raiz\"])"
   ]
  },
  {
   "cell_type": "code",
   "execution_count": 33,
   "metadata": {},
   "outputs": [],
   "source": [
    "numericas= df_r.select_dtypes(np.number)"
   ]
  },
  {
   "cell_type": "code",
   "execution_count": 34,
   "metadata": {},
   "outputs": [],
   "source": [
    "minmax= MinMaxScaler()"
   ]
  },
  {
   "cell_type": "code",
   "execution_count": 35,
   "metadata": {},
   "outputs": [
    {
     "data": {
      "text/plain": [
       "MinMaxScaler()"
      ]
     },
     "execution_count": 35,
     "metadata": {},
     "output_type": "execute_result"
    }
   ],
   "source": [
    "minmax.fit(df_r[[\"cnt\"]])"
   ]
  },
  {
   "cell_type": "code",
   "execution_count": 36,
   "metadata": {},
   "outputs": [],
   "source": [
    "X_normalizadas = minmax.transform(df[[\"cnt\"]])"
   ]
  },
  {
   "cell_type": "code",
   "execution_count": 37,
   "metadata": {},
   "outputs": [
    {
     "data": {
      "text/html": [
       "<div>\n",
       "<style scoped>\n",
       "    .dataframe tbody tr th:only-of-type {\n",
       "        vertical-align: middle;\n",
       "    }\n",
       "\n",
       "    .dataframe tbody tr th {\n",
       "        vertical-align: top;\n",
       "    }\n",
       "\n",
       "    .dataframe thead th {\n",
       "        text-align: right;\n",
       "    }\n",
       "</style>\n",
       "<table border=\"1\" class=\"dataframe\">\n",
       "  <thead>\n",
       "    <tr style=\"text-align: right;\">\n",
       "      <th></th>\n",
       "      <th>cnt</th>\n",
       "    </tr>\n",
       "  </thead>\n",
       "  <tbody>\n",
       "    <tr>\n",
       "      <th>0</th>\n",
       "      <td>0.110792</td>\n",
       "    </tr>\n",
       "    <tr>\n",
       "      <th>1</th>\n",
       "      <td>0.089623</td>\n",
       "    </tr>\n",
       "  </tbody>\n",
       "</table>\n",
       "</div>"
      ],
      "text/plain": [
       "        cnt\n",
       "0  0.110792\n",
       "1  0.089623"
      ]
     },
     "execution_count": 37,
     "metadata": {},
     "output_type": "execute_result"
    }
   ],
   "source": [
    "\n",
    "numericas_minmax = pd.DataFrame(X_normalizadas, columns = [\"cnt\"])\n",
    "numericas_minmax.head(2)"
   ]
  },
  {
   "cell_type": "code",
   "execution_count": 38,
   "metadata": {},
   "outputs": [
    {
     "data": {
      "text/plain": [
       "ShapiroResult(statistic=0.980247974395752, pvalue=2.31170904640976e-08)"
      ]
     },
     "execution_count": 38,
     "metadata": {},
     "output_type": "execute_result"
    }
   ],
   "source": [
    "stats.shapiro(numericas_minmax[\"cnt\"])"
   ]
  },
  {
   "cell_type": "code",
   "execution_count": 39,
   "metadata": {},
   "outputs": [],
   "source": [
    "df_r[\"cnt_minmax\"] = numericas_minmax"
   ]
  },
  {
   "cell_type": "code",
   "execution_count": 40,
   "metadata": {},
   "outputs": [
    {
     "data": {
      "text/plain": [
       "ShapiroResult(statistic=0.980247974395752, pvalue=2.31170904640976e-08)"
      ]
     },
     "execution_count": 40,
     "metadata": {},
     "output_type": "execute_result"
    }
   ],
   "source": [
    "stats.shapiro(df_r[\"cnt_minmax\"])"
   ]
  },
  {
   "cell_type": "code",
   "execution_count": 41,
   "metadata": {},
   "outputs": [
    {
     "data": {
      "text/html": [
       "<div>\n",
       "<style scoped>\n",
       "    .dataframe tbody tr th:only-of-type {\n",
       "        vertical-align: middle;\n",
       "    }\n",
       "\n",
       "    .dataframe tbody tr th {\n",
       "        vertical-align: top;\n",
       "    }\n",
       "\n",
       "    .dataframe thead th {\n",
       "        text-align: right;\n",
       "    }\n",
       "</style>\n",
       "<table border=\"1\" class=\"dataframe\">\n",
       "  <thead>\n",
       "    <tr style=\"text-align: right;\">\n",
       "      <th></th>\n",
       "      <th>dteday</th>\n",
       "      <th>season</th>\n",
       "      <th>yr</th>\n",
       "      <th>mnth</th>\n",
       "      <th>holiday</th>\n",
       "      <th>weekday</th>\n",
       "      <th>workingday</th>\n",
       "      <th>weathersit</th>\n",
       "      <th>temp</th>\n",
       "      <th>atemp</th>\n",
       "      <th>hum</th>\n",
       "      <th>windspeed</th>\n",
       "      <th>cnt</th>\n",
       "      <th>cnt_box</th>\n",
       "      <th>cnt_raiz</th>\n",
       "      <th>cnt_minmax</th>\n",
       "    </tr>\n",
       "  </thead>\n",
       "  <tbody>\n",
       "    <tr>\n",
       "      <th>0</th>\n",
       "      <td>2018-01-01</td>\n",
       "      <td>invierno</td>\n",
       "      <td>0</td>\n",
       "      <td>1</td>\n",
       "      <td>festivo</td>\n",
       "      <td>1</td>\n",
       "      <td>laborable</td>\n",
       "      <td>2</td>\n",
       "      <td>14.110847</td>\n",
       "      <td>18.18125</td>\n",
       "      <td>80.5833</td>\n",
       "      <td>10.749882</td>\n",
       "      <td>985</td>\n",
       "      <td>505.996731</td>\n",
       "      <td>31.384710</td>\n",
       "      <td>0.110792</td>\n",
       "    </tr>\n",
       "    <tr>\n",
       "      <th>1</th>\n",
       "      <td>2018-01-02</td>\n",
       "      <td>invierno</td>\n",
       "      <td>0</td>\n",
       "      <td>1</td>\n",
       "      <td>no festivo</td>\n",
       "      <td>2</td>\n",
       "      <td>laborable</td>\n",
       "      <td>2</td>\n",
       "      <td>14.902598</td>\n",
       "      <td>17.68695</td>\n",
       "      <td>69.6087</td>\n",
       "      <td>16.652113</td>\n",
       "      <td>801</td>\n",
       "      <td>421.088832</td>\n",
       "      <td>28.301943</td>\n",
       "      <td>0.089623</td>\n",
       "    </tr>\n",
       "    <tr>\n",
       "      <th>2</th>\n",
       "      <td>2018-01-03</td>\n",
       "      <td>invierno</td>\n",
       "      <td>0</td>\n",
       "      <td>1</td>\n",
       "      <td>no festivo</td>\n",
       "      <td>3</td>\n",
       "      <td>laborable</td>\n",
       "      <td>1</td>\n",
       "      <td>8.050924</td>\n",
       "      <td>9.47025</td>\n",
       "      <td>43.7273</td>\n",
       "      <td>16.636703</td>\n",
       "      <td>1349</td>\n",
       "      <td>668.973918</td>\n",
       "      <td>36.728735</td>\n",
       "      <td>0.152669</td>\n",
       "    </tr>\n",
       "    <tr>\n",
       "      <th>3</th>\n",
       "      <td>2018-01-04</td>\n",
       "      <td>invierno</td>\n",
       "      <td>0</td>\n",
       "      <td>1</td>\n",
       "      <td>no festivo</td>\n",
       "      <td>4</td>\n",
       "      <td>laborable</td>\n",
       "      <td>1</td>\n",
       "      <td>8.200000</td>\n",
       "      <td>10.60610</td>\n",
       "      <td>59.0435</td>\n",
       "      <td>10.739832</td>\n",
       "      <td>1562</td>\n",
       "      <td>761.936013</td>\n",
       "      <td>39.522146</td>\n",
       "      <td>0.177174</td>\n",
       "    </tr>\n",
       "    <tr>\n",
       "      <th>4</th>\n",
       "      <td>2018-01-05</td>\n",
       "      <td>invierno</td>\n",
       "      <td>0</td>\n",
       "      <td>1</td>\n",
       "      <td>no festivo</td>\n",
       "      <td>5</td>\n",
       "      <td>laborable</td>\n",
       "      <td>1</td>\n",
       "      <td>9.305237</td>\n",
       "      <td>11.46350</td>\n",
       "      <td>43.6957</td>\n",
       "      <td>12.522300</td>\n",
       "      <td>1600</td>\n",
       "      <td>778.363548</td>\n",
       "      <td>40.000000</td>\n",
       "      <td>0.181546</td>\n",
       "    </tr>\n",
       "  </tbody>\n",
       "</table>\n",
       "</div>"
      ],
      "text/plain": [
       "      dteday    season  yr  mnth     holiday weekday workingday weathersit  \\\n",
       "0 2018-01-01  invierno   0     1     festivo       1  laborable          2   \n",
       "1 2018-01-02  invierno   0     1  no festivo       2  laborable          2   \n",
       "2 2018-01-03  invierno   0     1  no festivo       3  laborable          1   \n",
       "3 2018-01-04  invierno   0     1  no festivo       4  laborable          1   \n",
       "4 2018-01-05  invierno   0     1  no festivo       5  laborable          1   \n",
       "\n",
       "        temp     atemp      hum  windspeed   cnt     cnt_box   cnt_raiz  \\\n",
       "0  14.110847  18.18125  80.5833  10.749882   985  505.996731  31.384710   \n",
       "1  14.902598  17.68695  69.6087  16.652113   801  421.088832  28.301943   \n",
       "2   8.050924   9.47025  43.7273  16.636703  1349  668.973918  36.728735   \n",
       "3   8.200000  10.60610  59.0435  10.739832  1562  761.936013  39.522146   \n",
       "4   9.305237  11.46350  43.6957  12.522300  1600  778.363548  40.000000   \n",
       "\n",
       "   cnt_minmax  \n",
       "0    0.110792  \n",
       "1    0.089623  \n",
       "2    0.152669  \n",
       "3    0.177174  \n",
       "4    0.181546  "
      ]
     },
     "execution_count": 41,
     "metadata": {},
     "output_type": "execute_result"
    }
   ],
   "source": [
    "df_r.head()"
   ]
  },
  {
   "attachments": {},
   "cell_type": "markdown",
   "metadata": {},
   "source": [
    "### Vamos a proceder a realizar el encoding."
   ]
  },
  {
   "cell_type": "code",
   "execution_count": 42,
   "metadata": {},
   "outputs": [],
   "source": [
    "df_r.drop([\"cnt_box\",\"cnt_raiz\", \"cnt_minmax\",\"dteday\"], axis=1,inplace=True)\n"
   ]
  },
  {
   "cell_type": "code",
   "execution_count": 43,
   "metadata": {},
   "outputs": [
    {
     "data": {
      "text/html": [
       "<div>\n",
       "<style scoped>\n",
       "    .dataframe tbody tr th:only-of-type {\n",
       "        vertical-align: middle;\n",
       "    }\n",
       "\n",
       "    .dataframe tbody tr th {\n",
       "        vertical-align: top;\n",
       "    }\n",
       "\n",
       "    .dataframe thead th {\n",
       "        text-align: right;\n",
       "    }\n",
       "</style>\n",
       "<table border=\"1\" class=\"dataframe\">\n",
       "  <thead>\n",
       "    <tr style=\"text-align: right;\">\n",
       "      <th></th>\n",
       "      <th>season</th>\n",
       "      <th>yr</th>\n",
       "      <th>mnth</th>\n",
       "      <th>holiday</th>\n",
       "      <th>weekday</th>\n",
       "      <th>workingday</th>\n",
       "      <th>weathersit</th>\n",
       "      <th>temp</th>\n",
       "      <th>atemp</th>\n",
       "      <th>hum</th>\n",
       "      <th>windspeed</th>\n",
       "      <th>cnt</th>\n",
       "    </tr>\n",
       "  </thead>\n",
       "  <tbody>\n",
       "    <tr>\n",
       "      <th>0</th>\n",
       "      <td>invierno</td>\n",
       "      <td>0</td>\n",
       "      <td>1</td>\n",
       "      <td>festivo</td>\n",
       "      <td>1</td>\n",
       "      <td>laborable</td>\n",
       "      <td>2</td>\n",
       "      <td>14.110847</td>\n",
       "      <td>18.18125</td>\n",
       "      <td>80.5833</td>\n",
       "      <td>10.749882</td>\n",
       "      <td>985</td>\n",
       "    </tr>\n",
       "    <tr>\n",
       "      <th>1</th>\n",
       "      <td>invierno</td>\n",
       "      <td>0</td>\n",
       "      <td>1</td>\n",
       "      <td>no festivo</td>\n",
       "      <td>2</td>\n",
       "      <td>laborable</td>\n",
       "      <td>2</td>\n",
       "      <td>14.902598</td>\n",
       "      <td>17.68695</td>\n",
       "      <td>69.6087</td>\n",
       "      <td>16.652113</td>\n",
       "      <td>801</td>\n",
       "    </tr>\n",
       "    <tr>\n",
       "      <th>2</th>\n",
       "      <td>invierno</td>\n",
       "      <td>0</td>\n",
       "      <td>1</td>\n",
       "      <td>no festivo</td>\n",
       "      <td>3</td>\n",
       "      <td>laborable</td>\n",
       "      <td>1</td>\n",
       "      <td>8.050924</td>\n",
       "      <td>9.47025</td>\n",
       "      <td>43.7273</td>\n",
       "      <td>16.636703</td>\n",
       "      <td>1349</td>\n",
       "    </tr>\n",
       "    <tr>\n",
       "      <th>3</th>\n",
       "      <td>invierno</td>\n",
       "      <td>0</td>\n",
       "      <td>1</td>\n",
       "      <td>no festivo</td>\n",
       "      <td>4</td>\n",
       "      <td>laborable</td>\n",
       "      <td>1</td>\n",
       "      <td>8.200000</td>\n",
       "      <td>10.60610</td>\n",
       "      <td>59.0435</td>\n",
       "      <td>10.739832</td>\n",
       "      <td>1562</td>\n",
       "    </tr>\n",
       "    <tr>\n",
       "      <th>4</th>\n",
       "      <td>invierno</td>\n",
       "      <td>0</td>\n",
       "      <td>1</td>\n",
       "      <td>no festivo</td>\n",
       "      <td>5</td>\n",
       "      <td>laborable</td>\n",
       "      <td>1</td>\n",
       "      <td>9.305237</td>\n",
       "      <td>11.46350</td>\n",
       "      <td>43.6957</td>\n",
       "      <td>12.522300</td>\n",
       "      <td>1600</td>\n",
       "    </tr>\n",
       "  </tbody>\n",
       "</table>\n",
       "</div>"
      ],
      "text/plain": [
       "     season  yr  mnth     holiday weekday workingday weathersit       temp  \\\n",
       "0  invierno   0     1     festivo       1  laborable          2  14.110847   \n",
       "1  invierno   0     1  no festivo       2  laborable          2  14.902598   \n",
       "2  invierno   0     1  no festivo       3  laborable          1   8.050924   \n",
       "3  invierno   0     1  no festivo       4  laborable          1   8.200000   \n",
       "4  invierno   0     1  no festivo       5  laborable          1   9.305237   \n",
       "\n",
       "      atemp      hum  windspeed   cnt  \n",
       "0  18.18125  80.5833  10.749882   985  \n",
       "1  17.68695  69.6087  16.652113   801  \n",
       "2   9.47025  43.7273  16.636703  1349  \n",
       "3  10.60610  59.0435  10.739832  1562  \n",
       "4  11.46350  43.6957  12.522300  1600  "
      ]
     },
     "execution_count": 43,
     "metadata": {},
     "output_type": "execute_result"
    }
   ],
   "source": [
    "df_r.head()"
   ]
  },
  {
   "cell_type": "code",
   "execution_count": 44,
   "metadata": {},
   "outputs": [],
   "source": [
    "df_r.to_csv(\"../datos/cnt/04_cnt-no-norm.csv\")# datos no normalizados"
   ]
  },
  {
   "cell_type": "code",
   "execution_count": 45,
   "metadata": {},
   "outputs": [],
   "source": [
    "df_r.to_pickle(\"../datos/cnt/04_cnt-no-norm.pickle\")# datos no normalizados"
   ]
  }
 ],
 "metadata": {
  "kernelspec": {
   "display_name": "base",
   "language": "python",
   "name": "python3"
  },
  "language_info": {
   "codemirror_mode": {
    "name": "ipython",
    "version": 3
   },
   "file_extension": ".py",
   "mimetype": "text/x-python",
   "name": "python",
   "nbconvert_exporter": "python",
   "pygments_lexer": "ipython3",
   "version": "3.9.13"
  },
  "orig_nbformat": 4,
  "vscode": {
   "interpreter": {
    "hash": "a52af493819045717511545598ab2b73dabca4ca61b402315e0ef2b43666342d"
   }
  }
 },
 "nbformat": 4,
 "nbformat_minor": 2
}
