{
 "cells": [
  {
   "attachments": {},
   "cell_type": "markdown",
   "metadata": {},
   "source": [
    "season - mnth = dependiente\n",
    "\n",
    "season - holiday = dependiente\n",
    "\n",
    "season - weathersit = dependiente\n",
    "\n",
    "season - temp = dependiente\n",
    "\n",
    "mnth - weathersit = dependiente\n",
    "\n",
    "mnth - temp = dependiente\n",
    "\n",
    "holiday - weekday = dependiente\n",
    "\n",
    "weekday - workingday = dependiente\n",
    "\n",
    "'weathersit', 'hum' = dependiente\n",
    "\n",
    "temp - atemp = dependiente\n",
    "\n",
    "temp- hum = dependiente\n",
    "\n",
    "temp- windspeed = dependiente\n",
    "\n",
    "hum - windspeed = dependiente\n",
    "\n",
    "\n"
   ]
  }
 ],
 "metadata": {
  "language_info": {
   "name": "python"
  },
  "orig_nbformat": 4
 },
 "nbformat": 4,
 "nbformat_minor": 2
}
