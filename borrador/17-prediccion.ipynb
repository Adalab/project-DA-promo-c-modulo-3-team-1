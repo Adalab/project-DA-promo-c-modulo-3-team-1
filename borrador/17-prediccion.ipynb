{
 "cells": [
  {
   "attachments": {},
   "cell_type": "markdown",
   "metadata": {},
   "source": [
    "## Predicción del modelo. "
   ]
  },
  {
   "cell_type": "code",
   "execution_count": 23,
   "metadata": {},
   "outputs": [],
   "source": [
    "import pandas as pd\n",
    "import numpy as np\n",
    "import matplotlib.pyplot as plt\n",
    "import seaborn as sns\n",
    "import pickle\n",
    "from sklearn.preprocessing import StandardScaler\n",
    "from sklearn.preprocessing import LabelEncoder\n",
    "from sklearn.preprocessing import OneHotEncoder\n",
    "from sklearn.model_selection import train_test_split\n",
    "from sklearn.linear_model import LinearRegression\n",
    "from sklearn.metrics import r2_score, mean_squared_error, mean_absolute_error\n",
    "import pickle"
   ]
  },
  {
   "cell_type": "code",
   "execution_count": 24,
   "metadata": {},
   "outputs": [
    {
     "data": {
      "text/html": [
       "<div>\n",
       "<style scoped>\n",
       "    .dataframe tbody tr th:only-of-type {\n",
       "        vertical-align: middle;\n",
       "    }\n",
       "\n",
       "    .dataframe tbody tr th {\n",
       "        vertical-align: top;\n",
       "    }\n",
       "\n",
       "    .dataframe thead th {\n",
       "        text-align: right;\n",
       "    }\n",
       "</style>\n",
       "<table border=\"1\" class=\"dataframe\">\n",
       "  <thead>\n",
       "    <tr style=\"text-align: right;\">\n",
       "      <th></th>\n",
       "      <th>atemp</th>\n",
       "      <th>hum</th>\n",
       "      <th>windspeed</th>\n",
       "      <th>season</th>\n",
       "      <th>yr</th>\n",
       "      <th>mnth</th>\n",
       "      <th>holiday</th>\n",
       "      <th>weekday</th>\n",
       "      <th>weathersit</th>\n",
       "      <th>cnt</th>\n",
       "    </tr>\n",
       "  </thead>\n",
       "  <tbody>\n",
       "    <tr>\n",
       "      <th>0</th>\n",
       "      <td>-0.456399</td>\n",
       "      <td>0.855582</td>\n",
       "      <td>-0.208909</td>\n",
       "      <td>0</td>\n",
       "      <td>0</td>\n",
       "      <td>0</td>\n",
       "      <td>0</td>\n",
       "      <td>0</td>\n",
       "      <td>1</td>\n",
       "      <td>985</td>\n",
       "    </tr>\n",
       "    <tr>\n",
       "      <th>1</th>\n",
       "      <td>-0.492863</td>\n",
       "      <td>0.332722</td>\n",
       "      <td>0.687550</td>\n",
       "      <td>0</td>\n",
       "      <td>0</td>\n",
       "      <td>0</td>\n",
       "      <td>2</td>\n",
       "      <td>0</td>\n",
       "      <td>1</td>\n",
       "      <td>801</td>\n",
       "    </tr>\n",
       "  </tbody>\n",
       "</table>\n",
       "</div>"
      ],
      "text/plain": [
       "      atemp       hum  windspeed  season  yr  mnth  holiday  weekday  \\\n",
       "0 -0.456399  0.855582  -0.208909       0   0     0        0        0   \n",
       "1 -0.492863  0.332722   0.687550       0   0     0        2        0   \n",
       "\n",
       "   weathersit  cnt  \n",
       "0           1  985  \n",
       "1           1  801  "
      ]
     },
     "execution_count": 24,
     "metadata": {},
     "output_type": "execute_result"
    }
   ],
   "source": [
    "df = pd.read_csv('../datos/cnt/11-cnt-cod_est.csv',index_col =0)\n",
    "df.head(2)"
   ]
  },
  {
   "attachments": {},
   "cell_type": "markdown",
   "metadata": {},
   "source": [
    "# Predicciones de alquileres de un año y otro"
   ]
  },
  {
   "cell_type": "code",
   "execution_count": 25,
   "metadata": {},
   "outputs": [],
   "source": [
    "usuario = {'atemp':15.7, 'hum':78, 'windspeed':10.9,'season':'primavera','yr':0,'mnth':7,'holiday':'festivo','weekday':7,'weathersit':1}"
   ]
  },
  {
   "cell_type": "code",
   "execution_count": 26,
   "metadata": {},
   "outputs": [],
   "source": [
    "usuario2 = {'atemp':15.7, 'hum':78, 'windspeed':10.9,'season':'primavera','yr':1,'mnth':7,'holiday':'festivo','weekday':7,'weathersit':1}"
   ]
  },
  {
   "attachments": {},
   "cell_type": "markdown",
   "metadata": {},
   "source": [
    "## Función para predecir la variable respuesta CNT"
   ]
  },
  {
   "cell_type": "code",
   "execution_count": 27,
   "metadata": {},
   "outputs": [],
   "source": [
    "def prediccion_cnt(prediccion):\n",
    "\n",
    "    df_usuario = pd.DataFrame(prediccion,index =[0])\n",
    "\n",
    "    df_usuario_numericas = df_usuario[['atemp','hum','windspeed']]\n",
    "    \n",
    "    # cargar estandarizacion\n",
    "\n",
    "    with open('11_robust_cnt.pkl','rb') as f:\n",
    "        robust = pickle.load(f)\n",
    "    \n",
    "    df_usuario_estan = pd.DataFrame(robust.transform(df_usuario_numericas),columns = df_usuario_numericas.columns)\n",
    "\n",
    "    # encoding\n",
    "\n",
    "    mapa_season = {'invierno':0, 'primavera':1, 'otoño':1, 'verano':2} \n",
    "    mapa_holiday = {'festivo':0, 'no festivo':2} \n",
    "    mapa_weekday = {7:1, 1:0, 2:0, 3:0, 4:2, 5:1, 6:1}\n",
    "    mapa_weather = {3:0, 2:1, 1:2}\n",
    "    mapa_mes = {1:0, 2:0, 3:1, 4:2, 5:3, 6:3, 7:3, 8:3, 9:3, 10:3, 11:2, 12:1}\n",
    "\n",
    "    df_usuario['season']= df_usuario['season'].map(mapa_season)\n",
    "    df_usuario['holiday']= df_usuario['holiday'].map(mapa_holiday)\n",
    "    df_usuario['weekday']= df_usuario['weekday'].map(mapa_weekday)\n",
    "    df_usuario['weathersit']= df_usuario['weathersit'].map(mapa_weather)\n",
    "    df_usuario['mnth']= df_usuario['mnth'].map(mapa_mes)\n",
    "    \n",
    "    with open('../datos/cnt/12-cnt-random.pkl','rb') as f:\n",
    "        bosque = pickle.load(f)\n",
    "\n",
    "    return bosque.predict(df_usuario), df_usuario \n",
    "    \n"
   ]
  },
  {
   "cell_type": "code",
   "execution_count": 28,
   "metadata": {},
   "outputs": [],
   "source": [
    "usuario_prediccion_cnt = prediccion_cnt(usuario)"
   ]
  },
  {
   "cell_type": "code",
   "execution_count": 29,
   "metadata": {},
   "outputs": [
    {
     "data": {
      "text/plain": [
       "(array([3906.96475781]),\n",
       "    atemp  hum  windspeed  season  yr  mnth  holiday  weekday  weathersit\n",
       " 0   15.7   78       10.9       1   0     3        0        1           2)"
      ]
     },
     "execution_count": 29,
     "metadata": {},
     "output_type": "execute_result"
    }
   ],
   "source": [
    "usuario_prediccion_cnt"
   ]
  },
  {
   "cell_type": "code",
   "execution_count": 30,
   "metadata": {},
   "outputs": [],
   "source": [
    "usuario_prediccion2_cnt = prediccion_cnt(usuario2)"
   ]
  },
  {
   "cell_type": "code",
   "execution_count": 31,
   "metadata": {},
   "outputs": [
    {
     "data": {
      "text/plain": [
       "(array([5555.06277913]),\n",
       "    atemp  hum  windspeed  season  yr  mnth  holiday  weekday  weathersit\n",
       " 0   15.7   78       10.9       1   1     3        0        1           2)"
      ]
     },
     "execution_count": 31,
     "metadata": {},
     "output_type": "execute_result"
    }
   ],
   "source": [
    "usuario_prediccion2_cnt"
   ]
  },
  {
   "attachments": {},
   "cell_type": "markdown",
   "metadata": {},
   "source": [
    "---"
   ]
  },
  {
   "attachments": {},
   "cell_type": "markdown",
   "metadata": {},
   "source": [
    "## Función para predecir la variable respuesta Casual"
   ]
  },
  {
   "cell_type": "code",
   "execution_count": 32,
   "metadata": {},
   "outputs": [],
   "source": [
    "def prediccion_casual(prediccion):\n",
    "\n",
    "    df_usuario = pd.DataFrame(prediccion,index =[0])\n",
    "\n",
    "    df_usuario_numericas = df_usuario[['atemp','hum','windspeed']]\n",
    "    \n",
    "    # cargar estandarizacion\n",
    "\n",
    "    with open('../datos/casual/15_robust_casual.pkl','rb') as f:\n",
    "        robust = pickle.load(f)\n",
    "    \n",
    "    df_usuario_estan = pd.DataFrame(robust.transform(df_usuario_numericas),columns = df_usuario_numericas.columns)\n",
    "\n",
    "    # encoding\n",
    "\n",
    "    mapa_season = {'invierno':0, 'otoño':1, 'primavera':2, 'verano':3} \n",
    "    mapa_holiday = {'festivo':0, 'no festivo':2} \n",
    "    mapa_weekday = { 1:3, 2:1, 3:0, 4:0, 5:0, 6:0, 7:2}\n",
    "    mapa_weather = {3:0, 2:1, 1:2}\n",
    "    mapa_mes = {1:0, 2:0, 3:1, 4:2, 5:3, 6:3, 7:3, 8:3, 9:3, 10:2, 11:1, 12:0}\n",
    "\n",
    "    df_usuario['season']= df_usuario['season'].map(mapa_season)\n",
    "    df_usuario['holiday']= df_usuario['holiday'].map(mapa_holiday)\n",
    "    df_usuario['weekday']= df_usuario['weekday'].map(mapa_weekday)\n",
    "    df_usuario['weathersit']= df_usuario['weathersit'].map(mapa_weather)\n",
    "    df_usuario['mnth']= df_usuario['mnth'].map(mapa_mes)\n",
    "    \n",
    "    with open('../datos/casual/16_random_casual.pkl','rb') as f:\n",
    "        bosque = pickle.load(f)\n",
    "\n",
    "    return bosque.predict(df_usuario), df_usuario "
   ]
  },
  {
   "cell_type": "code",
   "execution_count": 33,
   "metadata": {},
   "outputs": [],
   "source": [
    "usuario_prediccion_casual = prediccion_casual(usuario)"
   ]
  },
  {
   "cell_type": "code",
   "execution_count": 34,
   "metadata": {},
   "outputs": [
    {
     "data": {
      "text/plain": [
       "(array([1140.4832197]),\n",
       "    atemp  hum  windspeed  season  yr  mnth  holiday  weekday  weathersit\n",
       " 0   15.7   78       10.9       2   0     3        0        2           2)"
      ]
     },
     "execution_count": 34,
     "metadata": {},
     "output_type": "execute_result"
    }
   ],
   "source": [
    "usuario_prediccion_casual"
   ]
  },
  {
   "cell_type": "code",
   "execution_count": 35,
   "metadata": {},
   "outputs": [],
   "source": [
    "usuario_prediccion2_casual = prediccion_casual(usuario2)"
   ]
  },
  {
   "cell_type": "code",
   "execution_count": 36,
   "metadata": {},
   "outputs": [
    {
     "data": {
      "text/plain": [
       "(array([962.35486925]),\n",
       "    atemp  hum  windspeed  season  yr  mnth  holiday  weekday  weathersit\n",
       " 0   15.7   78       10.9       2   1     3        0        2           2)"
      ]
     },
     "execution_count": 36,
     "metadata": {},
     "output_type": "execute_result"
    }
   ],
   "source": [
    "usuario_prediccion2_casual"
   ]
  },
  {
   "attachments": {},
   "cell_type": "markdown",
   "metadata": {},
   "source": [
    "### Funcion para predecir la variable registered"
   ]
  },
  {
   "cell_type": "code",
   "execution_count": 37,
   "metadata": {},
   "outputs": [],
   "source": [
    "def prediccion_registered(prediccion):\n",
    "\n",
    "    df_usuario = pd.DataFrame(prediccion,index =[0])\n",
    "\n",
    "    df_usuario_numericas = df_usuario[['atemp','hum','windspeed']]\n",
    "    \n",
    "    # cargar estandarizacion\n",
    "\n",
    "    with open('../datos/registrados/06_robust_registered.pkl','rb') as f:\n",
    "        robust = pickle.load(f)\n",
    "    \n",
    "    df_usuario_estan = pd.DataFrame(robust.transform(df_usuario_numericas),columns = df_usuario_numericas.columns)\n",
    "\n",
    "    # encoding\n",
    "\n",
    "    mapa_season = {'invierno':0, 'primavera':1, 'otoño':1, 'verano':2} \n",
    "    mapa_holiday = {'festivo':0, 'no festivo':1} \n",
    "    mapa_weekday = {7:0, 1:0, 2:1, 3:2, 4:3, 5:3, 6:3}\n",
    "    mapa_weather = {3: 0, 2:1, 1:2}\n",
    "    mapa_mes = {1: 0, 2:0, 3:1, 4:1, 5:2, 6:2, 7:2, 8:2, 9:2, 10:2, 11:1, 12:1}\n",
    "\n",
    "    df_usuario['season']= df_usuario['season'].map(mapa_season)\n",
    "    df_usuario['holiday']= df_usuario['holiday'].map(mapa_holiday)\n",
    "    df_usuario['weekday']= df_usuario['weekday'].map(mapa_weekday)\n",
    "    df_usuario['weathersit']= df_usuario['weathersit'].map(mapa_weather)\n",
    "    df_usuario['mnth']= df_usuario['mnth'].map(mapa_mes)\n",
    "    \n",
    "    with open('../datos/registrados/07_random_casual.pkl','rb') as f:\n",
    "        bosque = pickle.load(f)\n",
    "\n",
    "    return bosque.predict(df_usuario), df_usuario "
   ]
  },
  {
   "cell_type": "code",
   "execution_count": 38,
   "metadata": {},
   "outputs": [],
   "source": [
    "usuario_prediccion_registered = prediccion_registered(usuario)"
   ]
  },
  {
   "cell_type": "code",
   "execution_count": 39,
   "metadata": {},
   "outputs": [
    {
     "data": {
      "text/plain": [
       "(array([2836.44143225]),\n",
       "    atemp  hum  windspeed  season  yr  mnth  holiday  weekday  weathersit\n",
       " 0   15.7   78       10.9       1   0     2        0        0           2)"
      ]
     },
     "execution_count": 39,
     "metadata": {},
     "output_type": "execute_result"
    }
   ],
   "source": [
    "usuario_prediccion_registered"
   ]
  },
  {
   "cell_type": "code",
   "execution_count": 40,
   "metadata": {},
   "outputs": [],
   "source": [
    "usuario_prediccion2_registered = prediccion_registered(usuario2)"
   ]
  },
  {
   "cell_type": "code",
   "execution_count": 41,
   "metadata": {},
   "outputs": [
    {
     "data": {
      "text/plain": [
       "(array([4115.59661803]),\n",
       "    atemp  hum  windspeed  season  yr  mnth  holiday  weekday  weathersit\n",
       " 0   15.7   78       10.9       1   1     2        0        0           2)"
      ]
     },
     "execution_count": 41,
     "metadata": {},
     "output_type": "execute_result"
    }
   ],
   "source": [
    "usuario_prediccion2_registered"
   ]
  }
 ],
 "metadata": {
  "kernelspec": {
   "display_name": "adalabenv",
   "language": "python",
   "name": "python3"
  },
  "language_info": {
   "codemirror_mode": {
    "name": "ipython",
    "version": 3
   },
   "file_extension": ".py",
   "mimetype": "text/x-python",
   "name": "python",
   "nbconvert_exporter": "python",
   "pygments_lexer": "ipython3",
   "version": "3.10.8"
  },
  "orig_nbformat": 4,
  "vscode": {
   "interpreter": {
    "hash": "b09caf96bf0d00c87bf22d52d5d9b835bbcda673d84b7b1547b87932947942a4"
   }
  }
 },
 "nbformat": 4,
 "nbformat_minor": 2
}
